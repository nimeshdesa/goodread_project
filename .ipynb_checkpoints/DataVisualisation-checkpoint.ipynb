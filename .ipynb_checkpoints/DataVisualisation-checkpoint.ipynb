{
 "cells": [
  {
   "cell_type": "code",
   "execution_count": 1,
   "metadata": {
    "cell_id": "00000-fd0e0c45-524e-4065-8038-96ec2d87313e",
    "deepnote_cell_type": "code",
    "deepnote_to_be_reexecuted": false,
    "execution_millis": 1,
    "execution_start": 1610611360437,
    "source_hash": "4108ba06",
    "tags": []
   },
   "outputs": [],
   "source": [
    "import pandas as pd\n",
    "import numpy as np\n",
    "from sklearn.preprocessing import MinMaxScaler\n",
    "import seaborn as sns\n",
    "import matplotlib.pyplot as plt\n",
    "from scipy import stats\n",
    "import matplotlib.mlab as mlab\n",
    "# from test.py import best_fit_distribution,  make_pdf\n",
    "# !pip install plotly \n",
    "import plotly.express as px\n",
    "import plotly.figure_factory as ff\n"
   ]
  },
  {
   "cell_type": "code",
   "execution_count": 6,
   "metadata": {
    "cell_id": "00001-092e348e-f919-47a2-a1e0-68b49299e364",
    "deepnote_cell_type": "code",
    "deepnote_to_be_reexecuted": false,
    "execution_millis": 11,
    "execution_start": 1610611363323,
    "source_hash": "84b3ddd7",
    "tags": []
   },
   "outputs": [],
   "source": [
    "df1 = pd.read_csv('Processed.csv')\n",
    "df1['Pages'] = df1['Pages'].replace('not known', 0)\n",
    "# df1"
   ]
  },
  {
   "cell_type": "code",
   "execution_count": 7,
   "metadata": {
    "cell_id": "00002-dee617d1-1cfc-4db7-994b-9d5f92fa9842",
    "deepnote_cell_type": "code",
    "deepnote_to_be_reexecuted": false,
    "execution_millis": 40,
    "execution_start": 1610611366999,
    "source_hash": "6af5968e",
    "tags": []
   },
   "outputs": [
    {
     "data": {
      "application/vnd.deepnote.dataframe.v2+json": {
       "column_count": 7,
       "columns": [
        {
         "dtype": "float64",
         "name": "Number of reviews",
         "stats": {
          "histogram": [
           {
            "bin_end": 17369.3,
            "bin_start": 0,
            "count": 7
           },
           {
            "bin_end": 34738.6,
            "bin_start": 17369.3,
            "count": 0
           },
           {
            "bin_end": 52107.899999999994,
            "bin_start": 34738.6,
            "count": 0
           },
           {
            "bin_end": 69477.2,
            "bin_start": 52107.899999999994,
            "count": 0
           },
           {
            "bin_end": 86846.5,
            "bin_start": 69477.2,
            "count": 0
           },
           {
            "bin_end": 104215.79999999999,
            "bin_start": 86846.5,
            "count": 0
           },
           {
            "bin_end": 121585.09999999999,
            "bin_start": 104215.79999999999,
            "count": 0
           },
           {
            "bin_end": 138954.4,
            "bin_start": 121585.09999999999,
            "count": 0
           },
           {
            "bin_end": 156323.69999999998,
            "bin_start": 138954.4,
            "count": 0
           },
           {
            "bin_end": 173693,
            "bin_start": 156323.69999999998,
            "count": 1
           }
          ],
          "max": 173693,
          "min": 0,
          "nan_count": 0,
          "unique_count": 8
         }
        },
        {
         "dtype": "float64",
         "name": "Number of ratings",
         "stats": {
          "histogram": [
           {
            "bin_end": 727851.4,
            "bin_start": 4,
            "count": 7
           },
           {
            "bin_end": 1455698.8,
            "bin_start": 727851.4,
            "count": 0
           },
           {
            "bin_end": 2183546.2,
            "bin_start": 1455698.8,
            "count": 0
           },
           {
            "bin_end": 2911393.6,
            "bin_start": 2183546.2,
            "count": 0
           },
           {
            "bin_end": 3639241,
            "bin_start": 2911393.6,
            "count": 0
           },
           {
            "bin_end": 4367088.4,
            "bin_start": 3639241,
            "count": 0
           },
           {
            "bin_end": 5094935.8,
            "bin_start": 4367088.4,
            "count": 0
           },
           {
            "bin_end": 5822783.2,
            "bin_start": 5094935.8,
            "count": 0
           },
           {
            "bin_end": 6550630.600000001,
            "bin_start": 5822783.2,
            "count": 0
           },
           {
            "bin_end": 7278478,
            "bin_start": 6550630.600000001,
            "count": 1
           }
          ],
          "max": 7278478,
          "min": 4,
          "nan_count": 0,
          "unique_count": 8
         }
        },
        {
         "dtype": "float64",
         "name": "Average rating",
         "stats": {
          "histogram": [
           {
            "bin_end": 100.2731684980453,
            "bin_start": 0.3035205533836651,
            "count": 7
           },
           {
            "bin_end": 200.24281644270692,
            "bin_start": 100.2731684980453,
            "count": 0
           },
           {
            "bin_end": 300.2124643873686,
            "bin_start": 200.24281644270692,
            "count": 0
           },
           {
            "bin_end": 400.1821123320302,
            "bin_start": 300.2124643873686,
            "count": 0
           },
           {
            "bin_end": 500.15176027669185,
            "bin_start": 400.1821123320302,
            "count": 0
           },
           {
            "bin_end": 600.1214082213535,
            "bin_start": 500.15176027669185,
            "count": 0
           },
           {
            "bin_end": 700.0910561660152,
            "bin_start": 600.1214082213535,
            "count": 0
           },
           {
            "bin_end": 800.0607041106767,
            "bin_start": 700.0910561660152,
            "count": 0
           },
           {
            "bin_end": 900.0303520553383,
            "bin_start": 800.0607041106767,
            "count": 0
           },
           {
            "bin_end": 1000,
            "bin_start": 900.0303520553383,
            "count": 1
           }
          ],
          "max": 1000,
          "min": 0.3035205533836651,
          "nan_count": 0,
          "unique_count": 8
         }
        },
        {
         "dtype": "float64",
         "name": "Series",
         "stats": {
          "histogram": [
           {
            "bin_end": 100,
            "bin_start": 0,
            "count": 7
           },
           {
            "bin_end": 200,
            "bin_start": 100,
            "count": 0
           },
           {
            "bin_end": 300,
            "bin_start": 200,
            "count": 0
           },
           {
            "bin_end": 400,
            "bin_start": 300,
            "count": 0
           },
           {
            "bin_end": 500,
            "bin_start": 400,
            "count": 0
           },
           {
            "bin_end": 600,
            "bin_start": 500,
            "count": 0
           },
           {
            "bin_end": 700,
            "bin_start": 600,
            "count": 0
           },
           {
            "bin_end": 800,
            "bin_start": 700,
            "count": 0
           },
           {
            "bin_end": 900,
            "bin_start": 800,
            "count": 0
           },
           {
            "bin_end": 1000,
            "bin_start": 900,
            "count": 1
           }
          ],
          "max": 1000,
          "min": 0,
          "nan_count": 0,
          "unique_count": 5
         }
        },
        {
         "dtype": "float64",
         "name": "Awards",
         "stats": {
          "histogram": [
           {
            "bin_end": 43.6,
            "bin_start": 1,
            "count": 7
           },
           {
            "bin_end": 86.2,
            "bin_start": 43.6,
            "count": 0
           },
           {
            "bin_end": 128.8,
            "bin_start": 86.2,
            "count": 0
           },
           {
            "bin_end": 171.4,
            "bin_start": 128.8,
            "count": 0
           },
           {
            "bin_end": 214,
            "bin_start": 171.4,
            "count": 0
           },
           {
            "bin_end": 256.6,
            "bin_start": 214,
            "count": 0
           },
           {
            "bin_end": 299.2,
            "bin_start": 256.6,
            "count": 0
           },
           {
            "bin_end": 341.8,
            "bin_start": 299.2,
            "count": 0
           },
           {
            "bin_end": 384.40000000000003,
            "bin_start": 341.8,
            "count": 0
           },
           {
            "bin_end": 427,
            "bin_start": 384.40000000000003,
            "count": 1
           }
          ],
          "max": 427,
          "min": 1,
          "nan_count": 0,
          "unique_count": 7
         }
        },
        {
         "dtype": "float64",
         "name": "minmax_norm_ratings",
         "stats": {
          "histogram": [
           {
            "bin_end": 100.8195054941359,
            "bin_start": 0.9105616601509955,
            "count": 7
           },
           {
            "bin_end": 200.7284493281208,
            "bin_start": 100.8195054941359,
            "count": 0
           },
           {
            "bin_end": 300.63739316210575,
            "bin_start": 200.7284493281208,
            "count": 0
           },
           {
            "bin_end": 400.54633699609064,
            "bin_start": 300.63739316210575,
            "count": 0
           },
           {
            "bin_end": 500.45528083007554,
            "bin_start": 400.54633699609064,
            "count": 0
           },
           {
            "bin_end": 600.3642246640604,
            "bin_start": 500.45528083007554,
            "count": 0
           },
           {
            "bin_end": 700.2731684980453,
            "bin_start": 600.3642246640604,
            "count": 0
           },
           {
            "bin_end": 800.1821123320302,
            "bin_start": 700.2731684980453,
            "count": 0
           },
           {
            "bin_end": 900.0910561660152,
            "bin_start": 800.1821123320302,
            "count": 0
           },
           {
            "bin_end": 1000,
            "bin_start": 900.0910561660152,
            "count": 1
           }
          ],
          "max": 1000,
          "min": 0.9105616601509955,
          "nan_count": 0,
          "unique_count": 8
         }
        },
        {
         "dtype": "float64",
         "name": "mean_norm_ratings",
         "stats": {
          "histogram": [
           {
            "bin_end": 95.662,
            "bin_start": -4.82,
            "count": 7
           },
           {
            "bin_end": 196.144,
            "bin_start": 95.662,
            "count": 0
           },
           {
            "bin_end": 296.62600000000003,
            "bin_start": 196.144,
            "count": 0
           },
           {
            "bin_end": 397.108,
            "bin_start": 296.62600000000003,
            "count": 0
           },
           {
            "bin_end": 497.59,
            "bin_start": 397.108,
            "count": 0
           },
           {
            "bin_end": 598.072,
            "bin_start": 497.59,
            "count": 0
           },
           {
            "bin_end": 698.554,
            "bin_start": 598.072,
            "count": 0
           },
           {
            "bin_end": 799.036,
            "bin_start": 698.554,
            "count": 0
           },
           {
            "bin_end": 899.5179999999999,
            "bin_start": 799.036,
            "count": 0
           },
           {
            "bin_end": 1000,
            "bin_start": 899.5179999999999,
            "count": 1
           }
          ],
          "max": 1000,
          "min": -4.82,
          "nan_count": 0,
          "unique_count": 8
         }
        },
        {
         "dtype": "object",
         "name": "_deepnote_index_column"
        }
       ],
       "row_count": 8,
       "rows_bottom": null,
       "rows_top": [
        {
         "Average rating": 1000,
         "Awards": 427,
         "Number of ratings": 1000,
         "Number of reviews": 1000,
         "Series": 1000,
         "_deepnote_index_column": "count",
         "mean_norm_ratings": 1000,
         "minmax_norm_ratings": 1000
        },
        {
         "Average rating": 3.9427200000000004,
         "Awards": 3.756440281030445,
         "Number of ratings": 107877.86,
         "Number of reviews": 5052.404,
         "Series": 0.571,
         "_deepnote_index_column": "mean",
         "mean_norm_ratings": 1.00816,
         "minmax_norm_ratings": 6.82816
        },
        {
         "Average rating": 0.3035205533836651,
         "Awards": 4.4433496725713395,
         "Number of ratings": 451087.05235979124,
         "Number of reviews": 13405.667409848997,
         "Series": 0.495180981262613,
         "_deepnote_index_column": "std",
         "mean_norm_ratings": 0.9105616601509955,
         "minmax_norm_ratings": 0.9105616601509955
        },
        {
         "Average rating": 2,
         "Awards": 1,
         "Number of ratings": 4,
         "Number of reviews": 0,
         "Series": 0,
         "_deepnote_index_column": "min",
         "mean_norm_ratings": -4.82,
         "minmax_norm_ratings": 1
        },
        {
         "Average rating": 3.76,
         "Awards": 1,
         "Number of ratings": 802.5,
         "Number of reviews": 109.75,
         "Series": 0,
         "_deepnote_index_column": "25%",
         "mean_norm_ratings": 0.46,
         "minmax_norm_ratings": 6.28
        },
        {
         "Average rating": 3.94,
         "Awards": 2,
         "Number of ratings": 10484,
         "Number of reviews": 885,
         "Series": 1,
         "_deepnote_index_column": "50%",
         "mean_norm_ratings": 1,
         "minmax_norm_ratings": 6.82
        },
        {
         "Average rating": 4.13,
         "Awards": 5,
         "Number of ratings": 53422.5,
         "Number of reviews": 3996,
         "Series": 1,
         "_deepnote_index_column": "75%",
         "mean_norm_ratings": 1.57,
         "minmax_norm_ratings": 7.39
        },
        {
         "Average rating": 5,
         "Awards": 41,
         "Number of ratings": 7278478,
         "Number of reviews": 173693,
         "Series": 1,
         "_deepnote_index_column": "max",
         "mean_norm_ratings": 4.18,
         "minmax_norm_ratings": 10
        }
       ]
      },
      "text/html": [
       "<div>\n",
       "<style scoped>\n",
       "    .dataframe tbody tr th:only-of-type {\n",
       "        vertical-align: middle;\n",
       "    }\n",
       "\n",
       "    .dataframe tbody tr th {\n",
       "        vertical-align: top;\n",
       "    }\n",
       "\n",
       "    .dataframe thead th {\n",
       "        text-align: right;\n",
       "    }\n",
       "</style>\n",
       "<table border=\"1\" class=\"dataframe\">\n",
       "  <thead>\n",
       "    <tr style=\"text-align: right;\">\n",
       "      <th></th>\n",
       "      <th>Number of reviews</th>\n",
       "      <th>Number of ratings</th>\n",
       "      <th>Average rating</th>\n",
       "      <th>Series</th>\n",
       "      <th>Awards</th>\n",
       "      <th>minmax_norm_ratings</th>\n",
       "      <th>mean_norm_ratings</th>\n",
       "    </tr>\n",
       "  </thead>\n",
       "  <tbody>\n",
       "    <tr>\n",
       "      <th>count</th>\n",
       "      <td>1000.00000</td>\n",
       "      <td>1.000000e+03</td>\n",
       "      <td>1000.000000</td>\n",
       "      <td>1000.000000</td>\n",
       "      <td>427.00000</td>\n",
       "      <td>1000.000000</td>\n",
       "      <td>1000.000000</td>\n",
       "    </tr>\n",
       "    <tr>\n",
       "      <th>mean</th>\n",
       "      <td>5052.40400</td>\n",
       "      <td>1.078779e+05</td>\n",
       "      <td>3.942720</td>\n",
       "      <td>0.571000</td>\n",
       "      <td>3.75644</td>\n",
       "      <td>6.828160</td>\n",
       "      <td>1.008160</td>\n",
       "    </tr>\n",
       "    <tr>\n",
       "      <th>std</th>\n",
       "      <td>13405.66741</td>\n",
       "      <td>4.510871e+05</td>\n",
       "      <td>0.303521</td>\n",
       "      <td>0.495181</td>\n",
       "      <td>4.44335</td>\n",
       "      <td>0.910562</td>\n",
       "      <td>0.910562</td>\n",
       "    </tr>\n",
       "    <tr>\n",
       "      <th>min</th>\n",
       "      <td>0.00000</td>\n",
       "      <td>4.000000e+00</td>\n",
       "      <td>2.000000</td>\n",
       "      <td>0.000000</td>\n",
       "      <td>1.00000</td>\n",
       "      <td>1.000000</td>\n",
       "      <td>-4.820000</td>\n",
       "    </tr>\n",
       "    <tr>\n",
       "      <th>25%</th>\n",
       "      <td>109.75000</td>\n",
       "      <td>8.025000e+02</td>\n",
       "      <td>3.760000</td>\n",
       "      <td>0.000000</td>\n",
       "      <td>1.00000</td>\n",
       "      <td>6.280000</td>\n",
       "      <td>0.460000</td>\n",
       "    </tr>\n",
       "    <tr>\n",
       "      <th>50%</th>\n",
       "      <td>885.00000</td>\n",
       "      <td>1.048400e+04</td>\n",
       "      <td>3.940000</td>\n",
       "      <td>1.000000</td>\n",
       "      <td>2.00000</td>\n",
       "      <td>6.820000</td>\n",
       "      <td>1.000000</td>\n",
       "    </tr>\n",
       "    <tr>\n",
       "      <th>75%</th>\n",
       "      <td>3996.00000</td>\n",
       "      <td>5.342250e+04</td>\n",
       "      <td>4.130000</td>\n",
       "      <td>1.000000</td>\n",
       "      <td>5.00000</td>\n",
       "      <td>7.390000</td>\n",
       "      <td>1.570000</td>\n",
       "    </tr>\n",
       "    <tr>\n",
       "      <th>max</th>\n",
       "      <td>173693.00000</td>\n",
       "      <td>7.278478e+06</td>\n",
       "      <td>5.000000</td>\n",
       "      <td>1.000000</td>\n",
       "      <td>41.00000</td>\n",
       "      <td>10.000000</td>\n",
       "      <td>4.180000</td>\n",
       "    </tr>\n",
       "  </tbody>\n",
       "</table>\n",
       "</div>"
      ],
      "text/plain": [
       "       Number of reviews  Number of ratings  Average rating       Series  \\\n",
       "count         1000.00000       1.000000e+03     1000.000000  1000.000000   \n",
       "mean          5052.40400       1.078779e+05        3.942720     0.571000   \n",
       "std          13405.66741       4.510871e+05        0.303521     0.495181   \n",
       "min              0.00000       4.000000e+00        2.000000     0.000000   \n",
       "25%            109.75000       8.025000e+02        3.760000     0.000000   \n",
       "50%            885.00000       1.048400e+04        3.940000     1.000000   \n",
       "75%           3996.00000       5.342250e+04        4.130000     1.000000   \n",
       "max         173693.00000       7.278478e+06        5.000000     1.000000   \n",
       "\n",
       "          Awards  minmax_norm_ratings  mean_norm_ratings  \n",
       "count  427.00000          1000.000000        1000.000000  \n",
       "mean     3.75644             6.828160           1.008160  \n",
       "std      4.44335             0.910562           0.910562  \n",
       "min      1.00000             1.000000          -4.820000  \n",
       "25%      1.00000             6.280000           0.460000  \n",
       "50%      2.00000             6.820000           1.000000  \n",
       "75%      5.00000             7.390000           1.570000  \n",
       "max     41.00000            10.000000           4.180000  "
      ]
     },
     "execution_count": 7,
     "metadata": {},
     "output_type": "execute_result"
    }
   ],
   "source": [
    "df1.describe()"
   ]
  },
  {
   "cell_type": "code",
   "execution_count": null,
   "metadata": {
    "cell_id": "00002-5707721b-e8eb-438b-82ec-5718fc8e5ea4",
    "deepnote_cell_type": "code",
    "deepnote_to_be_reexecuted": false,
    "execution_millis": 7,
    "execution_start": 1610548720280,
    "source_hash": "58133540",
    "tags": []
   },
   "outputs": [
    {
     "data": {
      "text/plain": [
       "Index(['URL', 'Title', 'Author', 'Number of reviews', 'Number of ratings',\n",
       "       'Average rating', 'Pages', 'Publish year', 'Series', 'Genres', 'Awards',\n",
       "       'Places', 'minmax_norm_ratings', 'mean_norm_ratings'],\n",
       "      dtype='object')"
      ]
     },
     "execution_count": 4,
     "metadata": {},
     "output_type": "execute_result"
    }
   ],
   "source": [
    "df1.columns"
   ]
  },
  {
   "cell_type": "code",
   "execution_count": null,
   "metadata": {
    "cell_id": "00003-3c044497-4cc2-416c-adde-172482d13459",
    "deepnote_cell_type": "code",
    "deepnote_to_be_reexecuted": false,
    "execution_millis": 17,
    "execution_start": 1610548720290,
    "source_hash": "ae56acb7",
    "tags": []
   },
   "outputs": [
    {
     "data": {
      "text/plain": [
       "0      6532535\n",
       "1      3248738\n",
       "2      1836308\n",
       "3      2988154\n",
       "4      1475247\n",
       "        ...   \n",
       "995      34800\n",
       "996       1339\n",
       "997         82\n",
       "998          4\n",
       "999         10\n",
       "Name: Number of ratings, Length: 1000, dtype: int64"
      ]
     },
     "execution_count": 5,
     "metadata": {},
     "output_type": "execute_result"
    }
   ],
   "source": [
    "# df1['Awards'] = df1['Awards'].astype(str)\n",
    "# counts= df1['Awards'].apply(lambda x: x.split(','))\n",
    "# # counts.replace(np.nan,'')\n",
    "# aw_count = counts.apply(lambda x: len(x))\n",
    "# df1['Awards_count'] = aw_count\n",
    "\n",
    "# df1['Awards'] = df1['Awards'].replace(np.nan, 0.0)\n",
    "df1['Number of ratings']"
   ]
  },
  {
   "cell_type": "code",
   "execution_count": null,
   "metadata": {
    "cell_id": "00004-7d327278-22c8-40b5-8a8f-aa2ba9aa1b13",
    "deepnote_cell_type": "code",
    "deepnote_to_be_reexecuted": false,
    "execution_millis": 24,
    "execution_start": 1610548720311,
    "source_hash": "2880ceac",
    "tags": []
   },
   "outputs": [],
   "source": [
    "Scaler = MinMaxScaler((1,10))\n",
    "df1['minmax_norm_rating'] = Scaler.fit_transform(df1[['Average rating']])\n",
    "df1['minmax_norm_rating1'] = 1 + (df1['Average rating']-df1['Average rating'].min()/df1['Average rating'].max()-df1['Average rating'].min())*9\n",
    "df1['meannorm_rating'] = 1 + (df1['Average rating'] - df1['Average rating'].mean())/(df1['Average rating'].max() - df1['Average rating'].min())*9"
   ]
  },
  {
   "cell_type": "code",
   "execution_count": null,
   "metadata": {
    "cell_id": "00005-7a6da593-243d-42fb-b3c9-89e6fecb26d1",
    "deepnote_cell_type": "code",
    "deepnote_to_be_reexecuted": false,
    "execution_millis": 0,
    "execution_start": 1610548720335,
    "source_hash": "9d74940a",
    "tags": []
   },
   "outputs": [],
   "source": [
    "bygroup_minmax_df1 = pd.DataFrame(data=df1.groupby('Publish year')['minmax_norm_rating'].agg('mean'))"
   ]
  },
  {
   "cell_type": "code",
   "execution_count": null,
   "metadata": {
    "cell_id": "00007-6e917246-e5e6-4559-80a1-8ab956d07275",
    "deepnote_cell_type": "code",
    "deepnote_to_be_reexecuted": false,
    "execution_millis": 0,
    "execution_start": 1610550725885,
    "source_hash": "61230446",
    "tags": []
   },
   "outputs": [],
   "source": [
    "df1['Pages'] = df1['Pages'].astype(int)"
   ]
  },
  {
   "cell_type": "markdown",
   "metadata": {
    "cell_id": "00007-0caa2857-9c5e-457e-bf45-995406a600f3",
    "deepnote_cell_type": "markdown",
    "tags": []
   },
   "source": [
    "### Exercise 1\n",
    "Create a 2D scatterplot with pages on the x-axis and num_ratings on the y-axis.\n"
   ]
  },
  {
   "cell_type": "code",
   "execution_count": null,
   "metadata": {
    "cell_id": "00007-bb3a9dbf-341b-4b8f-98c5-9923634fcf3a",
    "deepnote_cell_type": "code",
    "deepnote_to_be_reexecuted": false,
    "execution_millis": 208,
    "execution_start": 1610548734117,
    "source_hash": "3badc670",
    "tags": []
   },
   "outputs": [
    {
     "data": {
      "text/plain": [
       "Text(0, 0.5, 'Number of ratings')"
      ]
     },
     "execution_count": 21,
     "metadata": {},
     "output_type": "execute_result"
    },
    {
     "data": {
      "image/png": "[encoded data removed]",
      "text/plain": [
       "<Figure size 720x576 with 1 Axes>"
      ]
     },
     "metadata": {
      "needs_background": "light"
     },
     "output_type": "display_data"
    }
   ],
   "source": [
    "\"\"\"Exercise 1\"\"\"\n",
    "#plt.figure(figsize=(10,8))\n",
    "#df1['Pages'] = df1['Pages'].replace('not known', 0)\n",
    "#sns.scatterplot(x = df1['Pages'], y = df1['Number of ratings'])\n",
    "\n",
    "\n",
    "\n",
    "plt.figure(figsize=(10,8))\n",
    "plt.scatter(df1['Pages'],df1['Number of ratings'])\n",
    "plt.title(\"Number of ratings in function of number of pages\") \n",
    "plt.xlabel(\"Number of pages\") \n",
    "plt.ylabel(\"Number of ratings\")"
   ]
  },
  {
   "cell_type": "code",
   "execution_count": null,
   "metadata": {
    "cell_id": "00010-7496a986-a7d4-404d-be73-7c158c8dcdb8",
    "deepnote_cell_type": "code",
    "deepnote_to_be_reexecuted": false,
    "execution_millis": 374,
    "execution_start": 1610573368397,
    "source_hash": "146fbe9d",
    "tags": []
   },
   "outputs": [
    {
     "data": {
      "text/html": [
       "<html>\n",
       "<head><meta charset=\"utf-8\" /></head>\n",
       "<body>\n",
       "    <div>            <script src=\"https://cdnjs.cloudflare.com/ajax/libs/mathjax/2.7.5/MathJax.js?config=TeX-AMS-MML_SVG\"></script><script type=\"text/javascript\">if (window.MathJax) {MathJax.Hub.Config({SVG: {font: \"STIX-Web\"}});}</script>                <script type=\"text/javascript\">window.PlotlyConfig = {MathJaxConfig: 'local'};</script>\n",
       "        <script src=\"https://cdn.plot.ly/plotly-latest.min.js\"></script>                <div id=\"280b3a74-d710-447c-937b-a1fb78253af2\" class=\"plotly-graph-div\" style=\"height:525px; width:100%;\"></div>            <script type=\"text/javascript\">                                    window.PLOTLYENV=window.PLOTLYENV || {};                                    if (document.getElementById(\"280b3a74-d710-447c-937b-a1fb78253af2\")) {                    Plotly.newPlot(                        \"280b3a74-d710-447c-937b-a1fb78253af2\",                        [{\"hovertemplate\": \"x=%{x}<br>y=%{y}<extra></extra>\", \"legendgroup\": \"\", \"marker\": {\"color\": \"#636efa\", \"symbol\": \"circle\"}, \"mode\": \"markers\", \"name\": \"\", \"orientation\": \"v\", \"showlegend\": false, \"type\": \"scatter\", \"x\": [374, 237, 208, 487, 288, 194, 314, 141, 182, 352, 241, 384, 1172, 425, 441, 369, 296, 337, 288, 389, 374, 342, 305, 244, 416, 288, 275, 509, 118, 400, 317, 617, 336, 105, 255, 231, 766, 337, 512, 338, 213, 620, 326, 560, 179, 334, 457, 292, 438, 358, 241, 1168, 370, 288, 380, 255, 399, 228, 387, 310, 259, 345, 374, 333, 308, 382, 259, 200, 163, 323, 182, 956, 321, 296, 488, 278, 317, 458, 499, 459, 400, 219, 449, 268, 361, 359, 629, 160, 345, 340, 341, 525, 149, 599, 315, 326, 509, 461, 210, 267, 320, 266, 354, 468, 241, 336, 222, 192, 243, 224, 153, 276, 352, 153, 288, 256, 82, 368, 130, 458, 147, 383, 635, 380, 195, 676, 335, 100, 359, 466, 255, 178, 1074, 256, 264, 491, 458, 30, 231, 382, 661, 261, 573, 340, 200, 326, 309, 344, 431, 324, 249, 336, 258, 465, 578, 403, 256, 211, 416, 746, 289, 345, 342, 440, 181, 485, 144, 320, 288, 222, 325, 264, 371, 468, 370, 578, 937, 368, 446, 801, 150, 362, 252, 400, 464, 331, 262, 317, 197, 208, 9, 373, 176, 463, 384, 325, 327, 312, 220, 268, 240, 223, 544, 386, 225, 145, 0, 288, 656, 134, 271, 471, 362, 261, 0, 485, 326, 241, 0, 493, 194, 925, 195, 244, 326, 208, 880, 204, 352, 280, 672, 294, 458, 331, 347, 435, 188, 388, 103, 314, 288, 256, 198, 417, 439, 193, 210, 466, 308, 0, 748, 578, 469, 486, 416, 224, 407, 195, 356, 336, 339, 304, 98, 192, 123, 335, 179, 272, 224, 233, 149, 309, 300, 1088, 456, 418, 275, 186, 323, 323, 326, 776, 368, 186, 0, 166, 320, 102, 305, 576, 233, 219, 320, 355, 373, 506, 369, 144, 250, 344, 396, 304, 300, 430, 343, 304, 0, 408, 281, 354, 538, 384, 339, 421, 439, 429, 266, 389, 306, 480, 169, 604, 386, 173, 381, 393, 388, 320, 352, 552, 512, 516, 341, 240, 382, 369, 512, 233, 404, 447, 373, 144, 403, 849, 391, 339, 623, 251, 304, 456, 262, 291, 348, 416, 15, 125, 368, 272, 233, 309, 288, 416, 384, 341, 507, 400, 354, 531, 434, 160, 333, 94, 308, 320, 251, 366, 369, 323, 144, 272, 1204, 400, 318, 304, 400, 355, 455, 226, 1427, 369, 407, 304, 336, 416, 336, 449, 343, 635, 432, 312, 424, 486, 278, 0, 0, 372, 228, 1050, 318, 767, 272, 381, 268, 592, 419, 112, 602, 370, 280, 291, 422, 405, 307, 502, 362, 341, 154, 238, 580, 371, 544, 524, 345, 350, 336, 195, 307, 312, 407, 359, 402, 48, 371, 434, 331, 486, 260, 240, 240, 304, 412, 422, 304, 458, 313, 608, 251, 470, 0, 430, 288, 272, 0, 304, 384, 319, 211, 406, 308, 341, 608, 389, 256, 384, 328, 400, 288, 326, 439, 643, 108, 310, 393, 191, 352, 427, 288, 248, 544, 62, 275, 426, 326, 324, 278, 304, 365, 340, 98, 364, 436, 290, 241, 316, 306, 336, 384, 348, 300, 360, 208, 120, 354, 413, 384, 278, 342, 282, 367, 330, 464, 403, 400, 60, 297, 448, 452, 256, 324, 32, 384, 1088, 722, 336, 431, 512, 469, 394, 230, 501, 256, 304, 447, 471, 354, 320, 209, 256, 464, 382, 313, 526, 481, 304, 479, 419, 151, 216, 431, 726, 344, 336, 162, 489, 579, 224, 304, 176, 158, 174, 241, 274, 206, 0, 329, 98, 161, 288, 305, 328, 339, 256, 321, 268, 15, 293, 20, 0, 0, 603, 375, 228, 0, 240, 264, 273, 406, 308, 496, 309, 526, 310, 320, 481, 339, 425, 20, 287, 304, 370, 326, 220, 461, 256, 780, 327, 422, 239, 337, 312, 284, 321, 374, 461, 240, 416, 1015, 296, 312, 274, 400, 768, 309, 384, 404, 352, 367, 448, 414, 22, 308, 553, 336, 253, 252, 274, 1044, 391, 504, 388, 416, 274, 384, 365, 448, 289, 341, 398, 298, 429, 208, 208, 772, 336, 496, 210, 418, 32, 300, 288, 430, 336, 256, 288, 534, 260, 478, 256, 256, 388, 560, 815, 298, 416, 192, 314, 349, 288, 576, 284, 464, 48, 675, 202, 255, 390, 222, 256, 409, 88, 456, 334, 237, 304, 460, 384, 234, 200, 226, 291, 184, 384, 378, 0, 336, 92, 374, 369, 219, 322, 377, 0, 193, 362, 469, 432, 340, 164, 333, 56, 306, 206, 416, 284, 266, 240, 392, 296, 378, 52, 295, 442, 347, 470, 344, 218, 457, 350, 234, 338, 309, 55, 233, 300, 174, 402, 227, 369, 243, 365, 228, 256, 21, 384, 300, 0, 267, 222, 151, 0, 456, 204, 335, 342, 458, 778, 224, 196, 186, 357, 369, 0, 351, 185, 228, 326, 394, 1680, 196, 496, 319, 518, 280, 560, 0, 328, 264, 220, 369, 148, 286, 288, 323, 238, 463, 220, 192, 286, 314, 341, 368, 608, 419, 166, 432, 384, 304, 448, 452, 0, 327, 352, 881, 418, 416, 512, 570, 464, 176, 274, 562, 272, 763, 393, 312, 304, 262, 250, 452, 0, 402, 458, 464, 426, 388, 526, 412, 75, 425, 512, 355, 336, 463, 288, 624, 256, 0, 334, 251, 711, 295, 399, 327, 287, 352, 223, 0, 234, 316, 342, 340, 222, 341, 479, 309, 293, 432, 219, 384, 835, 467, 324, 432, 278, 326, 358, 199, 518, 515, 367, 273, 544, 386, 386, 507, 222, 749, 389, 388, 368, 688, 396, 103, 343, 263, 168, 536, 411, 433, 288, 336, 308, 166, 0, 274, 264, 303, 226, 204, 380, 400, 222, 251, 253, 321, 296, 382, 313, 403, 188, 302, 335, 0, 277, 187, 278, 196, 298, 240, 186, 114, 312, 224, 335, 421, 383, 256, 244, 0, 0, 190, 210, 0, 352, 399, 150, 260, 85, 0, 549, 1, 464, 492, 432, 1050, 10, 0, 320, 274, 0, 375, 142, 300, 499, 0, 247, 550, 0, 365, 0, 446, 313, 1040, 375, 110, 194, 440, 29, 272, 260, 40, 323, 372, 340, 384, 342, 0, 380, 342, 330], \"xaxis\": \"x\", \"y\": [6532535, 3248738, 1836308, 2988154, 1475247, 1732046, 1508603, 2822789, 2313464, 1156769, 731588, 1095667, 630118, 571822, 423968, 667860, 270136, 197590, 487219, 226357, 896426, 450555, 422796, 356294, 493169, 251409, 1150861, 163857, 422784, 706620, 120277, 62675, 936750, 133320, 73951, 525287, 193882, 117567, 158554, 301937, 612729, 911485, 207945, 182348, 343508, 95911, 398473, 267200, 240285, 98331, 40503, 357992, 131187, 170699, 82585, 241064, 114868, 91443, 91486, 82546, 179484, 72068, 110748, 336480, 57960, 258199, 67112, 43890, 60532, 40017, 214859, 56422, 31874, 35801, 154049, 142815, 105363, 58739, 85259, 60444, 32659, 91655, 196289, 34005, 47195, 67222, 40668, 98942, 25118, 11096, 47038, 278966, 10321, 53128, 12363, 42449, 222002, 193864, 887, 27150, 23664, 49286, 25811, 55700, 17858, 53408, 413, 250326, 11863, 134104, 98886, 48759, 49973, 113292, 89159, 160819, 890, 7830, 105250, 43187, 15196, 594589, 776702, 38385, 3978, 130, 13423, 85, 24764, 23377, 97680, 356, 263047, 99616, 2925, 561126, 32671, 59951, 32053, 47652, 806220, 108603, 15199, 143201, 3894, 51482, 14487, 26196, 23398, 70657, 14064, 41718, 43485, 24351, 50663, 79350, 7073, 1068049, 31896, 15024, 85695, 11986, 8676, 317931, 4195, 67643, 206654, 21151, 6733, 7650, 61697, 25, 15451, 160345, 439632, 32288, 64062, 12768, 193655, 9662, 11359, 194, 11088, 167409, 26323, 56307, 148778, 6521, 163237, 25780, 14786, 98042, 53351, 5452, 1901, 7646, 167545, 17907, 18373, 8414, 1450, 8851, 419285, 155380, 11144, 44104, 56, 5972, 109033, 18976, 9824, 75888, 27458, 637, 304, 1655374, 118165, 9968, 373, 185999, 41104, 208507, 158538, 420174, 12958, 166133, 97797, 34925, 40865, 68, 15184, 88810, 98, 38217, 36379, 151361, 11704, 1317, 18823, 53335, 35759, 370, 19954, 770153, 25799, 6670, 185, 62453, 37146, 164, 26493, 28468, 156741, 6558, 111920, 281702, 21687, 11842, 217, 15889, 78762, 39, 5585, 49313, 455, 196552, 17352, 3293, 520, 137, 9524, 95556, 2683, 64934, 793826, 210, 2671, 15994, 53466, 28485, 14482, 39760, 5803, 9297, 38, 10053, 91764, 111, 54, 13855, 74049, 6977, 6062, 302617, 21574, 71609, 39661, 41508, 16392, 59549, 16095, 88, 20, 151931, 59, 21979, 44807, 5284, 9695, 8467, 10066, 7799, 16066, 143224, 185, 53, 232, 929, 58, 51333, 115419, 78, 18672, 856, 33403, 84018, 4440, 131434, 1005484, 284931, 27216, 65733, 165870, 5105, 55, 31892, 20834, 991015, 7319, 6089, 16941, 29660, 2115, 431826, 51684, 32272, 63450, 14521, 3925, 7771, 21796, 3593, 9182, 174454, 16152, 5286, 8723, 2427, 2318, 161364, 5369, 9528, 10239, 13197, 78865, 7371, 13615, 11727, 44695, 18206, 9237, 161, 48, 126, 492, 19, 171882, 6948, 13656, 6009, 12906, 15305, 1285, 22884, 13313, 113791, 39928, 265259, 4883, 4108, 18147, 13904, 35755, 29950, 1472, 56319, 15308, 3753, 42900, 56846, 3506, 25387, 13210, 16, 1073, 36, 80, 151100, 54, 4958, 885, 33403, 54, 2513, 59938, 8376, 46676, 235549, 4651, 13927, 18072, 44636, 918, 14569, 61237, 44034, 8158, 17276, 26591, 21722, 11086, 125851, 27535, 10602, 5078, 8845, 13075, 1848, 1642, 120497, 856, 10366, 207531, 85890, 195, 14, 16648, 91, 5124, 756, 103, 22274, 38552, 545, 40275, 7441, 8969, 10324, 14, 745, 117630, 2442, 88, 23043, 29900, 10897, 1509, 630479, 21663, 8480, 99376, 63963, 615, 28078, 13676, 107397, 4026, 367, 16846, 69673, 1831, 12040, 18884, 7943, 7276, 148519, 194244, 30573, 4037, 16, 175, 21, 91, 204, 249, 50, 30636, 288, 21, 313, 75808, 133, 6675, 27470, 3169, 25421, 6224, 34, 123, 234, 1876, 26, 1107, 16197, 3225, 108, 19356, 18039, 34, 4162, 68526, 27607, 10797, 15750, 3231, 26566, 6969, 11245, 3651, 873, 663, 75909, 30242, 25792, 8747, 41503, 1121, 65698, 23175, 5087195, 646, 35792, 60494, 395628, 18896, 8872, 7261, 4037, 555, 2072, 3663757, 848495, 688113, 395, 52368, 70029, 16694, 26613, 109684, 89237, 11128, 24134, 1231, 795, 383681, 22678, 5400, 69, 630, 166, 62, 48, 80485, 5105, 312, 47, 51, 871, 13, 375, 915, 32, 38, 15, 378, 205, 11, 1501, 16, 131935, 168, 980, 9, 4555, 40, 131, 223, 8486, 3288, 21855, 89560, 7040, 15453, 2458, 7921, 7679, 8, 106263, 25288, 324, 73, 11065, 17690, 21472, 25390, 227136, 227099, 7859, 3850, 14400, 11446, 3805, 21591, 177822, 1094, 5042, 3097, 2165, 10941, 8066, 927, 52462, 102, 3413, 10798, 1809, 3198, 15876, 70518, 296, 19822, 76797, 1103, 2435, 76, 2743, 52684, 131100, 80641, 2374, 3410, 2225, 3848, 7841, 1732, 5065, 46890, 2074, 53731, 19945, 4043, 30849, 3282, 253, 2890, 3641, 2410, 4683, 5854, 7035, 26078, 55335, 2484, 9354, 31459, 93210, 440939, 2300, 2445, 16889, 4872, 292145, 7466, 84803, 2789, 299, 595317, 3671, 24533, 2779, 15265, 227334, 14864, 5904, 10072, 30087, 4887, 29550, 102004, 10294, 11307, 1167, 13559, 2559, 34, 1059, 22, 93, 127, 17, 66, 40, 12, 683, 100, 52, 528, 88, 39, 42, 271, 7, 7, 13, 63, 1392, 54, 15, 57, 293, 133, 131, 1028, 501, 193, 7288, 226, 97, 46, 237, 41, 115, 3481, 43, 98, 5146, 3523, 15, 20, 5025, 12348, 52215, 14854, 106, 101, 238848, 805, 10847, 1307, 8499, 457, 3346, 8, 6560, 347, 8, 1233, 2085, 1128, 593, 26, 5148, 95200, 1100, 69307, 297, 229, 185, 1944, 1193, 66817, 1523, 288, 20, 244, 9139, 50, 7891, 101, 9158, 2685, 79516, 640, 548, 3855, 2204, 1285, 745, 19989, 33, 46, 6483, 400859, 102, 8578, 1111, 4168, 1119, 1444, 70455, 12471, 10801, 96463, 4256, 32020, 171784, 17330, 1621, 3035, 2994, 214, 12169, 16855, 18875, 2192, 49939, 72965, 18464, 1808, 15005, 94390, 10866, 11460, 25862, 24005, 124284, 74427, 28683, 507332, 1065, 1696, 992, 808, 1793, 18401, 10725, 763, 3748, 11430, 52224, 43608, 993, 222751, 53897, 87564, 3443, 197, 2874, 63512, 10644, 12601, 115, 3141, 17734, 1610, 2117, 147, 1370, 98029, 207143, 994, 109291, 61077, 3934, 7278478, 3846, 32548, 2019, 15993, 2046611, 308252, 2010, 4582, 2308, 377748, 333294, 2907, 10168, 46617, 216774, 18198, 1575, 14337, 9339, 39902, 343, 14640, 43996, 3650, 17719, 13048, 51853, 1985058, 58152, 6118, 18199, 4955, 72954, 27, 148, 27, 9280, 6, 41, 16, 3744, 28, 80, 42, 120, 2957, 1646, 656, 28, 245, 73, 965, 36, 569, 12, 281, 20, 34, 401, 90, 14, 46, 130, 7, 33, 155, 37, 21, 125, 152, 120, 264, 43, 992, 71, 84, 41, 146, 517, 206451, 302, 49, 7, 309, 46, 248, 785, 7, 266, 22135, 9, 19, 94, 43, 79, 392, 41, 44, 21, 5, 128, 13, 27, 44, 6, 18, 72, 558, 5366, 179, 56, 1546, 106, 1426, 47, 87, 344, 1537, 88, 19, 34800, 1339, 82, 4, 10], \"yaxis\": \"y\"}],                        {\"legend\": {\"tracegroupgap\": 0}, \"margin\": {\"t\": 60}, \"template\": {\"data\": {\"bar\": [{\"error_x\": {\"color\": \"#2a3f5f\"}, \"error_y\": {\"color\": \"#2a3f5f\"}, \"marker\": {\"line\": {\"color\": \"#E5ECF6\", \"width\": 0.5}}, \"type\": \"bar\"}], \"barpolar\": [{\"marker\": {\"line\": {\"color\": \"#E5ECF6\", \"width\": 0.5}}, \"type\": \"barpolar\"}], \"carpet\": [{\"aaxis\": {\"endlinecolor\": \"#2a3f5f\", \"gridcolor\": \"white\", \"linecolor\": \"white\", \"minorgridcolor\": \"white\", \"startlinecolor\": \"#2a3f5f\"}, \"baxis\": {\"endlinecolor\": \"#2a3f5f\", \"gridcolor\": \"white\", \"linecolor\": \"white\", \"minorgridcolor\": \"white\", \"startlinecolor\": \"#2a3f5f\"}, \"type\": \"carpet\"}], \"choropleth\": [{\"colorbar\": {\"outlinewidth\": 0, \"ticks\": \"\"}, \"type\": \"choropleth\"}], \"contour\": [{\"colorbar\": {\"outlinewidth\": 0, \"ticks\": \"\"}, \"colorscale\": [[0.0, \"#0d0887\"], [0.1111111111111111, \"#46039f\"], [0.2222222222222222, \"#7201a8\"], [0.3333333333333333, \"#9c179e\"], [0.4444444444444444, \"#bd3786\"], [0.5555555555555556, \"#d8576b\"], [0.6666666666666666, \"#ed7953\"], [0.7777777777777778, \"#fb9f3a\"], [0.8888888888888888, \"#fdca26\"], [1.0, \"#f0f921\"]], \"type\": \"contour\"}], \"contourcarpet\": [{\"colorbar\": {\"outlinewidth\": 0, \"ticks\": \"\"}, \"type\": \"contourcarpet\"}], \"heatmap\": [{\"colorbar\": {\"outlinewidth\": 0, \"ticks\": \"\"}, \"colorscale\": [[0.0, \"#0d0887\"], [0.1111111111111111, \"#46039f\"], [0.2222222222222222, \"#7201a8\"], [0.3333333333333333, \"#9c179e\"], [0.4444444444444444, \"#bd3786\"], [0.5555555555555556, \"#d8576b\"], [0.6666666666666666, \"#ed7953\"], [0.7777777777777778, \"#fb9f3a\"], [0.8888888888888888, \"#fdca26\"], [1.0, \"#f0f921\"]], \"type\": \"heatmap\"}], \"heatmapgl\": [{\"colorbar\": {\"outlinewidth\": 0, \"ticks\": \"\"}, \"colorscale\": [[0.0, \"#0d0887\"], [0.1111111111111111, \"#46039f\"], [0.2222222222222222, \"#7201a8\"], [0.3333333333333333, \"#9c179e\"], [0.4444444444444444, \"#bd3786\"], [0.5555555555555556, \"#d8576b\"], [0.6666666666666666, \"#ed7953\"], [0.7777777777777778, \"#fb9f3a\"], [0.8888888888888888, \"#fdca26\"], [1.0, \"#f0f921\"]], \"type\": \"heatmapgl\"}], \"histogram\": [{\"marker\": {\"colorbar\": {\"outlinewidth\": 0, \"ticks\": \"\"}}, \"type\": \"histogram\"}], \"histogram2d\": [{\"colorbar\": {\"outlinewidth\": 0, \"ticks\": \"\"}, \"colorscale\": [[0.0, \"#0d0887\"], [0.1111111111111111, \"#46039f\"], [0.2222222222222222, \"#7201a8\"], [0.3333333333333333, \"#9c179e\"], [0.4444444444444444, \"#bd3786\"], [0.5555555555555556, \"#d8576b\"], [0.6666666666666666, \"#ed7953\"], [0.7777777777777778, \"#fb9f3a\"], [0.8888888888888888, \"#fdca26\"], [1.0, \"#f0f921\"]], \"type\": \"histogram2d\"}], \"histogram2dcontour\": [{\"colorbar\": {\"outlinewidth\": 0, \"ticks\": \"\"}, \"colorscale\": [[0.0, \"#0d0887\"], [0.1111111111111111, \"#46039f\"], [0.2222222222222222, \"#7201a8\"], [0.3333333333333333, \"#9c179e\"], [0.4444444444444444, \"#bd3786\"], [0.5555555555555556, \"#d8576b\"], [0.6666666666666666, \"#ed7953\"], [0.7777777777777778, \"#fb9f3a\"], [0.8888888888888888, \"#fdca26\"], [1.0, \"#f0f921\"]], \"type\": \"histogram2dcontour\"}], \"mesh3d\": [{\"colorbar\": {\"outlinewidth\": 0, \"ticks\": \"\"}, \"type\": \"mesh3d\"}], \"parcoords\": [{\"line\": {\"colorbar\": {\"outlinewidth\": 0, \"ticks\": \"\"}}, \"type\": \"parcoords\"}], \"pie\": [{\"automargin\": true, \"type\": \"pie\"}], \"scatter\": [{\"marker\": {\"colorbar\": {\"outlinewidth\": 0, \"ticks\": \"\"}}, \"type\": \"scatter\"}], \"scatter3d\": [{\"line\": {\"colorbar\": {\"outlinewidth\": 0, \"ticks\": \"\"}}, \"marker\": {\"colorbar\": {\"outlinewidth\": 0, \"ticks\": \"\"}}, \"type\": \"scatter3d\"}], \"scattercarpet\": [{\"marker\": {\"colorbar\": {\"outlinewidth\": 0, \"ticks\": \"\"}}, \"type\": \"scattercarpet\"}], \"scattergeo\": [{\"marker\": {\"colorbar\": {\"outlinewidth\": 0, \"ticks\": \"\"}}, \"type\": \"scattergeo\"}], \"scattergl\": [{\"marker\": {\"colorbar\": {\"outlinewidth\": 0, \"ticks\": \"\"}}, \"type\": \"scattergl\"}], \"scattermapbox\": [{\"marker\": {\"colorbar\": {\"outlinewidth\": 0, \"ticks\": \"\"}}, \"type\": \"scattermapbox\"}], \"scatterpolar\": [{\"marker\": {\"colorbar\": {\"outlinewidth\": 0, \"ticks\": \"\"}}, \"type\": \"scatterpolar\"}], \"scatterpolargl\": [{\"marker\": {\"colorbar\": {\"outlinewidth\": 0, \"ticks\": \"\"}}, \"type\": \"scatterpolargl\"}], \"scatterternary\": [{\"marker\": {\"colorbar\": {\"outlinewidth\": 0, \"ticks\": \"\"}}, \"type\": \"scatterternary\"}], \"surface\": [{\"colorbar\": {\"outlinewidth\": 0, \"ticks\": \"\"}, \"colorscale\": [[0.0, \"#0d0887\"], [0.1111111111111111, \"#46039f\"], [0.2222222222222222, \"#7201a8\"], [0.3333333333333333, \"#9c179e\"], [0.4444444444444444, \"#bd3786\"], [0.5555555555555556, \"#d8576b\"], [0.6666666666666666, \"#ed7953\"], [0.7777777777777778, \"#fb9f3a\"], [0.8888888888888888, \"#fdca26\"], [1.0, \"#f0f921\"]], \"type\": \"surface\"}], \"table\": [{\"cells\": {\"fill\": {\"color\": \"#EBF0F8\"}, \"line\": {\"color\": \"white\"}}, \"header\": {\"fill\": {\"color\": \"#C8D4E3\"}, \"line\": {\"color\": \"white\"}}, \"type\": \"table\"}]}, \"layout\": {\"annotationdefaults\": {\"arrowcolor\": \"#2a3f5f\", \"arrowhead\": 0, \"arrowwidth\": 1}, \"autotypenumbers\": \"strict\", \"coloraxis\": {\"colorbar\": {\"outlinewidth\": 0, \"ticks\": \"\"}}, \"colorscale\": {\"diverging\": [[0, \"#8e0152\"], [0.1, \"#c51b7d\"], [0.2, \"#de77ae\"], [0.3, \"#f1b6da\"], [0.4, \"#fde0ef\"], [0.5, \"#f7f7f7\"], [0.6, \"#e6f5d0\"], [0.7, \"#b8e186\"], [0.8, \"#7fbc41\"], [0.9, \"#4d9221\"], [1, \"#276419\"]], \"sequential\": [[0.0, \"#0d0887\"], [0.1111111111111111, \"#46039f\"], [0.2222222222222222, \"#7201a8\"], [0.3333333333333333, \"#9c179e\"], [0.4444444444444444, \"#bd3786\"], [0.5555555555555556, \"#d8576b\"], [0.6666666666666666, \"#ed7953\"], [0.7777777777777778, \"#fb9f3a\"], [0.8888888888888888, \"#fdca26\"], [1.0, \"#f0f921\"]], \"sequentialminus\": [[0.0, \"#0d0887\"], [0.1111111111111111, \"#46039f\"], [0.2222222222222222, \"#7201a8\"], [0.3333333333333333, \"#9c179e\"], [0.4444444444444444, \"#bd3786\"], [0.5555555555555556, \"#d8576b\"], [0.6666666666666666, \"#ed7953\"], [0.7777777777777778, \"#fb9f3a\"], [0.8888888888888888, \"#fdca26\"], [1.0, \"#f0f921\"]]}, \"colorway\": [\"#636efa\", \"#EF553B\", \"#00cc96\", \"#ab63fa\", \"#FFA15A\", \"#19d3f3\", \"#FF6692\", \"#B6E880\", \"#FF97FF\", \"#FECB52\"], \"font\": {\"color\": \"#2a3f5f\"}, \"geo\": {\"bgcolor\": \"white\", \"lakecolor\": \"white\", \"landcolor\": \"#E5ECF6\", \"showlakes\": true, \"showland\": true, \"subunitcolor\": \"white\"}, \"hoverlabel\": {\"align\": \"left\"}, \"hovermode\": \"closest\", \"mapbox\": {\"style\": \"light\"}, \"paper_bgcolor\": \"white\", \"plot_bgcolor\": \"#E5ECF6\", \"polar\": {\"angularaxis\": {\"gridcolor\": \"white\", \"linecolor\": \"white\", \"ticks\": \"\"}, \"bgcolor\": \"#E5ECF6\", \"radialaxis\": {\"gridcolor\": \"white\", \"linecolor\": \"white\", \"ticks\": \"\"}}, \"scene\": {\"xaxis\": {\"backgroundcolor\": \"#E5ECF6\", \"gridcolor\": \"white\", \"gridwidth\": 2, \"linecolor\": \"white\", \"showbackground\": true, \"ticks\": \"\", \"zerolinecolor\": \"white\"}, \"yaxis\": {\"backgroundcolor\": \"#E5ECF6\", \"gridcolor\": \"white\", \"gridwidth\": 2, \"linecolor\": \"white\", \"showbackground\": true, \"ticks\": \"\", \"zerolinecolor\": \"white\"}, \"zaxis\": {\"backgroundcolor\": \"#E5ECF6\", \"gridcolor\": \"white\", \"gridwidth\": 2, \"linecolor\": \"white\", \"showbackground\": true, \"ticks\": \"\", \"zerolinecolor\": \"white\"}}, \"shapedefaults\": {\"line\": {\"color\": \"#2a3f5f\"}}, \"ternary\": {\"aaxis\": {\"gridcolor\": \"white\", \"linecolor\": \"white\", \"ticks\": \"\"}, \"baxis\": {\"gridcolor\": \"white\", \"linecolor\": \"white\", \"ticks\": \"\"}, \"bgcolor\": \"#E5ECF6\", \"caxis\": {\"gridcolor\": \"white\", \"linecolor\": \"white\", \"ticks\": \"\"}}, \"title\": {\"x\": 0.05}, \"xaxis\": {\"automargin\": true, \"gridcolor\": \"white\", \"linecolor\": \"white\", \"ticks\": \"\", \"title\": {\"standoff\": 15}, \"zerolinecolor\": \"white\", \"zerolinewidth\": 2}, \"yaxis\": {\"automargin\": true, \"gridcolor\": \"white\", \"linecolor\": \"white\", \"ticks\": \"\", \"title\": {\"standoff\": 15}, \"zerolinecolor\": \"white\", \"zerolinewidth\": 2}}}, \"xaxis\": {\"anchor\": \"y\", \"domain\": [0.0, 1.0], \"title\": {\"text\": \"x\"}}, \"yaxis\": {\"anchor\": \"x\", \"domain\": [0.0, 1.0], \"title\": {\"text\": \"y\"}}},                        {\"responsive\": true}                    ).then(function(){\n",
       "                            \n",
       "var gd = document.getElementById('280b3a74-d710-447c-937b-a1fb78253af2');\n",
       "var x = new MutationObserver(function (mutations, observer) {{\n",
       "        var display = window.getComputedStyle(gd).display;\n",
       "        if (!display || display === 'none') {{\n",
       "            console.log([gd, 'removed!']);\n",
       "            Plotly.purge(gd);\n",
       "            observer.disconnect();\n",
       "        }}\n",
       "}});\n",
       "\n",
       "// Listen for the removal of the full notebook cells\n",
       "var notebookContainer = gd.closest('#notebook-container');\n",
       "if (notebookContainer) {{\n",
       "    x.observe(notebookContainer, {childList: true});\n",
       "}}\n",
       "\n",
       "// Listen for the clearing of the current output cell\n",
       "var outputEl = gd.closest('.output');\n",
       "if (outputEl) {{\n",
       "    x.observe(outputEl, {childList: true});\n",
       "}}\n",
       "\n",
       "                        })                };                            </script>        </div>\n",
       "</body>\n",
       "</html>"
      ]
     },
     "metadata": {},
     "output_type": "display_data"
    }
   ],
   "source": [
    "\n",
    "fig = px.scatter(x=df1['Pages'], y=df1['Number of ratings'])\n",
    "fig.show()"
   ]
  },
  {
   "cell_type": "markdown",
   "metadata": {
    "cell_id": "00008-1d9081cd-2cd8-41ff-9c75-f3d0f1f93762",
    "deepnote_cell_type": "markdown",
    "tags": []
   },
   "source": [
    "### Exercise 2\n",
    "Can you compute numerically the correlation coefficient of these two columns?"
   ]
  },
  {
   "cell_type": "code",
   "execution_count": null,
   "metadata": {
    "cell_id": "00011-df2ecbc1-50fe-4dcf-ad9d-5a500c291309",
    "deepnote_cell_type": "code",
    "deepnote_to_be_reexecuted": false,
    "execution_millis": 4,
    "execution_start": 1610572892537,
    "source_hash": "92549d0f",
    "tags": []
   },
   "outputs": [
    {
     "data": {
      "text/html": [
       "<style  type=\"text/css\" >\n",
       "    #T_4ef2362e_55e5_11eb_813a_32befdc6c0a0row0_col0 {\n",
       "            background-color:  #b40426;\n",
       "            color:  #f1f1f1;\n",
       "        }    #T_4ef2362e_55e5_11eb_813a_32befdc6c0a0row0_col1 {\n",
       "            background-color:  #de614d;\n",
       "            color:  #000000;\n",
       "        }    #T_4ef2362e_55e5_11eb_813a_32befdc6c0a0row0_col2 {\n",
       "            background-color:  #4358cb;\n",
       "            color:  #f1f1f1;\n",
       "        }    #T_4ef2362e_55e5_11eb_813a_32befdc6c0a0row0_col3 {\n",
       "            background-color:  #5572df;\n",
       "            color:  #000000;\n",
       "        }    #T_4ef2362e_55e5_11eb_813a_32befdc6c0a0row0_col4 {\n",
       "            background-color:  #4c66d6;\n",
       "            color:  #000000;\n",
       "        }    #T_4ef2362e_55e5_11eb_813a_32befdc6c0a0row0_col5 {\n",
       "            background-color:  #f5c2aa;\n",
       "            color:  #000000;\n",
       "        }    #T_4ef2362e_55e5_11eb_813a_32befdc6c0a0row0_col6 {\n",
       "            background-color:  #4358cb;\n",
       "            color:  #f1f1f1;\n",
       "        }    #T_4ef2362e_55e5_11eb_813a_32befdc6c0a0row0_col7 {\n",
       "            background-color:  #4358cb;\n",
       "            color:  #f1f1f1;\n",
       "        }    #T_4ef2362e_55e5_11eb_813a_32befdc6c0a0row0_col8 {\n",
       "            background-color:  #4358cb;\n",
       "            color:  #f1f1f1;\n",
       "        }    #T_4ef2362e_55e5_11eb_813a_32befdc6c0a0row0_col9 {\n",
       "            background-color:  #4358cb;\n",
       "            color:  #f1f1f1;\n",
       "        }    #T_4ef2362e_55e5_11eb_813a_32befdc6c0a0row0_col10 {\n",
       "            background-color:  #4358cb;\n",
       "            color:  #f1f1f1;\n",
       "        }    #T_4ef2362e_55e5_11eb_813a_32befdc6c0a0row1_col0 {\n",
       "            background-color:  #e0654f;\n",
       "            color:  #000000;\n",
       "        }    #T_4ef2362e_55e5_11eb_813a_32befdc6c0a0row1_col1 {\n",
       "            background-color:  #b40426;\n",
       "            color:  #f1f1f1;\n",
       "        }    #T_4ef2362e_55e5_11eb_813a_32befdc6c0a0row1_col2 {\n",
       "            background-color:  #3d50c3;\n",
       "            color:  #f1f1f1;\n",
       "        }    #T_4ef2362e_55e5_11eb_813a_32befdc6c0a0row1_col3 {\n",
       "            background-color:  #3e51c5;\n",
       "            color:  #f1f1f1;\n",
       "        }    #T_4ef2362e_55e5_11eb_813a_32befdc6c0a0row1_col4 {\n",
       "            background-color:  #3b4cc0;\n",
       "            color:  #f1f1f1;\n",
       "        }    #T_4ef2362e_55e5_11eb_813a_32befdc6c0a0row1_col5 {\n",
       "            background-color:  #f2cab5;\n",
       "            color:  #000000;\n",
       "        }    #T_4ef2362e_55e5_11eb_813a_32befdc6c0a0row1_col6 {\n",
       "            background-color:  #3d50c3;\n",
       "            color:  #f1f1f1;\n",
       "        }    #T_4ef2362e_55e5_11eb_813a_32befdc6c0a0row1_col7 {\n",
       "            background-color:  #3d50c3;\n",
       "            color:  #f1f1f1;\n",
       "        }    #T_4ef2362e_55e5_11eb_813a_32befdc6c0a0row1_col8 {\n",
       "            background-color:  #3d50c3;\n",
       "            color:  #f1f1f1;\n",
       "        }    #T_4ef2362e_55e5_11eb_813a_32befdc6c0a0row1_col9 {\n",
       "            background-color:  #3d50c3;\n",
       "            color:  #f1f1f1;\n",
       "        }    #T_4ef2362e_55e5_11eb_813a_32befdc6c0a0row1_col10 {\n",
       "            background-color:  #3d50c3;\n",
       "            color:  #f1f1f1;\n",
       "        }    #T_4ef2362e_55e5_11eb_813a_32befdc6c0a0row2_col0 {\n",
       "            background-color:  #3d50c3;\n",
       "            color:  #f1f1f1;\n",
       "        }    #T_4ef2362e_55e5_11eb_813a_32befdc6c0a0row2_col1 {\n",
       "            background-color:  #4a63d3;\n",
       "            color:  #f1f1f1;\n",
       "        }    #T_4ef2362e_55e5_11eb_813a_32befdc6c0a0row2_col2 {\n",
       "            background-color:  #b40426;\n",
       "            color:  #f1f1f1;\n",
       "        }    #T_4ef2362e_55e5_11eb_813a_32befdc6c0a0row2_col3 {\n",
       "            background-color:  #4a63d3;\n",
       "            color:  #f1f1f1;\n",
       "        }    #T_4ef2362e_55e5_11eb_813a_32befdc6c0a0row2_col4 {\n",
       "            background-color:  #4a63d3;\n",
       "            color:  #f1f1f1;\n",
       "        }    #T_4ef2362e_55e5_11eb_813a_32befdc6c0a0row2_col5 {\n",
       "            background-color:  #5e7de7;\n",
       "            color:  #000000;\n",
       "        }    #T_4ef2362e_55e5_11eb_813a_32befdc6c0a0row2_col6 {\n",
       "            background-color:  #b40426;\n",
       "            color:  #f1f1f1;\n",
       "        }    #T_4ef2362e_55e5_11eb_813a_32befdc6c0a0row2_col7 {\n",
       "            background-color:  #b40426;\n",
       "            color:  #f1f1f1;\n",
       "        }    #T_4ef2362e_55e5_11eb_813a_32befdc6c0a0row2_col8 {\n",
       "            background-color:  #b40426;\n",
       "            color:  #f1f1f1;\n",
       "        }    #T_4ef2362e_55e5_11eb_813a_32befdc6c0a0row2_col9 {\n",
       "            background-color:  #b40426;\n",
       "            color:  #f1f1f1;\n",
       "        }    #T_4ef2362e_55e5_11eb_813a_32befdc6c0a0row2_col10 {\n",
       "            background-color:  #b40426;\n",
       "            color:  #f1f1f1;\n",
       "        }    #T_4ef2362e_55e5_11eb_813a_32befdc6c0a0row3_col0 {\n",
       "            background-color:  #3f53c6;\n",
       "            color:  #f1f1f1;\n",
       "        }    #T_4ef2362e_55e5_11eb_813a_32befdc6c0a0row3_col1 {\n",
       "            background-color:  #3b4cc0;\n",
       "            color:  #f1f1f1;\n",
       "        }    #T_4ef2362e_55e5_11eb_813a_32befdc6c0a0row3_col2 {\n",
       "            background-color:  #3b4cc0;\n",
       "            color:  #f1f1f1;\n",
       "        }    #T_4ef2362e_55e5_11eb_813a_32befdc6c0a0row3_col3 {\n",
       "            background-color:  #b40426;\n",
       "            color:  #f1f1f1;\n",
       "        }    #T_4ef2362e_55e5_11eb_813a_32befdc6c0a0row3_col4 {\n",
       "            background-color:  #5a78e4;\n",
       "            color:  #000000;\n",
       "        }    #T_4ef2362e_55e5_11eb_813a_32befdc6c0a0row3_col5 {\n",
       "            background-color:  #3b4cc0;\n",
       "            color:  #f1f1f1;\n",
       "        }    #T_4ef2362e_55e5_11eb_813a_32befdc6c0a0row3_col6 {\n",
       "            background-color:  #3b4cc0;\n",
       "            color:  #f1f1f1;\n",
       "        }    #T_4ef2362e_55e5_11eb_813a_32befdc6c0a0row3_col7 {\n",
       "            background-color:  #3b4cc0;\n",
       "            color:  #f1f1f1;\n",
       "        }    #T_4ef2362e_55e5_11eb_813a_32befdc6c0a0row3_col8 {\n",
       "            background-color:  #3b4cc0;\n",
       "            color:  #f1f1f1;\n",
       "        }    #T_4ef2362e_55e5_11eb_813a_32befdc6c0a0row3_col9 {\n",
       "            background-color:  #3b4cc0;\n",
       "            color:  #f1f1f1;\n",
       "        }    #T_4ef2362e_55e5_11eb_813a_32befdc6c0a0row3_col10 {\n",
       "            background-color:  #3b4cc0;\n",
       "            color:  #f1f1f1;\n",
       "        }    #T_4ef2362e_55e5_11eb_813a_32befdc6c0a0row4_col0 {\n",
       "            background-color:  #3b4cc0;\n",
       "            color:  #f1f1f1;\n",
       "        }    #T_4ef2362e_55e5_11eb_813a_32befdc6c0a0row4_col1 {\n",
       "            background-color:  #3b4cc0;\n",
       "            color:  #f1f1f1;\n",
       "        }    #T_4ef2362e_55e5_11eb_813a_32befdc6c0a0row4_col2 {\n",
       "            background-color:  #3d50c3;\n",
       "            color:  #f1f1f1;\n",
       "        }    #T_4ef2362e_55e5_11eb_813a_32befdc6c0a0row4_col3 {\n",
       "            background-color:  #5d7ce6;\n",
       "            color:  #000000;\n",
       "        }    #T_4ef2362e_55e5_11eb_813a_32befdc6c0a0row4_col4 {\n",
       "            background-color:  #b40426;\n",
       "            color:  #f1f1f1;\n",
       "        }    #T_4ef2362e_55e5_11eb_813a_32befdc6c0a0row4_col5 {\n",
       "            background-color:  #5673e0;\n",
       "            color:  #000000;\n",
       "        }    #T_4ef2362e_55e5_11eb_813a_32befdc6c0a0row4_col6 {\n",
       "            background-color:  #3d50c3;\n",
       "            color:  #f1f1f1;\n",
       "        }    #T_4ef2362e_55e5_11eb_813a_32befdc6c0a0row4_col7 {\n",
       "            background-color:  #3d50c3;\n",
       "            color:  #f1f1f1;\n",
       "        }    #T_4ef2362e_55e5_11eb_813a_32befdc6c0a0row4_col8 {\n",
       "            background-color:  #3d50c3;\n",
       "            color:  #f1f1f1;\n",
       "        }    #T_4ef2362e_55e5_11eb_813a_32befdc6c0a0row4_col9 {\n",
       "            background-color:  #3d50c3;\n",
       "            color:  #f1f1f1;\n",
       "        }    #T_4ef2362e_55e5_11eb_813a_32befdc6c0a0row4_col10 {\n",
       "            background-color:  #3d50c3;\n",
       "            color:  #f1f1f1;\n",
       "        }    #T_4ef2362e_55e5_11eb_813a_32befdc6c0a0row5_col0 {\n",
       "            background-color:  #f2cbb7;\n",
       "            color:  #000000;\n",
       "        }    #T_4ef2362e_55e5_11eb_813a_32befdc6c0a0row5_col1 {\n",
       "            background-color:  #f2cbb7;\n",
       "            color:  #000000;\n",
       "        }    #T_4ef2362e_55e5_11eb_813a_32befdc6c0a0row5_col2 {\n",
       "            background-color:  #4e68d8;\n",
       "            color:  #000000;\n",
       "        }    #T_4ef2362e_55e5_11eb_813a_32befdc6c0a0row5_col3 {\n",
       "            background-color:  #3b4cc0;\n",
       "            color:  #f1f1f1;\n",
       "        }    #T_4ef2362e_55e5_11eb_813a_32befdc6c0a0row5_col4 {\n",
       "            background-color:  #536edd;\n",
       "            color:  #000000;\n",
       "        }    #T_4ef2362e_55e5_11eb_813a_32befdc6c0a0row5_col5 {\n",
       "            background-color:  #b40426;\n",
       "            color:  #f1f1f1;\n",
       "        }    #T_4ef2362e_55e5_11eb_813a_32befdc6c0a0row5_col6 {\n",
       "            background-color:  #4e68d8;\n",
       "            color:  #000000;\n",
       "        }    #T_4ef2362e_55e5_11eb_813a_32befdc6c0a0row5_col7 {\n",
       "            background-color:  #4e68d8;\n",
       "            color:  #000000;\n",
       "        }    #T_4ef2362e_55e5_11eb_813a_32befdc6c0a0row5_col8 {\n",
       "            background-color:  #4e68d8;\n",
       "            color:  #000000;\n",
       "        }    #T_4ef2362e_55e5_11eb_813a_32befdc6c0a0row5_col9 {\n",
       "            background-color:  #4e68d8;\n",
       "            color:  #000000;\n",
       "        }    #T_4ef2362e_55e5_11eb_813a_32befdc6c0a0row5_col10 {\n",
       "            background-color:  #4e68d8;\n",
       "            color:  #000000;\n",
       "        }    #T_4ef2362e_55e5_11eb_813a_32befdc6c0a0row6_col0 {\n",
       "            background-color:  #3d50c3;\n",
       "            color:  #f1f1f1;\n",
       "        }    #T_4ef2362e_55e5_11eb_813a_32befdc6c0a0row6_col1 {\n",
       "            background-color:  #4a63d3;\n",
       "            color:  #f1f1f1;\n",
       "        }    #T_4ef2362e_55e5_11eb_813a_32befdc6c0a0row6_col2 {\n",
       "            background-color:  #b40426;\n",
       "            color:  #f1f1f1;\n",
       "        }    #T_4ef2362e_55e5_11eb_813a_32befdc6c0a0row6_col3 {\n",
       "            background-color:  #4a63d3;\n",
       "            color:  #f1f1f1;\n",
       "        }    #T_4ef2362e_55e5_11eb_813a_32befdc6c0a0row6_col4 {\n",
       "            background-color:  #4a63d3;\n",
       "            color:  #f1f1f1;\n",
       "        }    #T_4ef2362e_55e5_11eb_813a_32befdc6c0a0row6_col5 {\n",
       "            background-color:  #5e7de7;\n",
       "            color:  #000000;\n",
       "        }    #T_4ef2362e_55e5_11eb_813a_32befdc6c0a0row6_col6 {\n",
       "            background-color:  #b40426;\n",
       "            color:  #f1f1f1;\n",
       "        }    #T_4ef2362e_55e5_11eb_813a_32befdc6c0a0row6_col7 {\n",
       "            background-color:  #b40426;\n",
       "            color:  #f1f1f1;\n",
       "        }    #T_4ef2362e_55e5_11eb_813a_32befdc6c0a0row6_col8 {\n",
       "            background-color:  #b40426;\n",
       "            color:  #f1f1f1;\n",
       "        }    #T_4ef2362e_55e5_11eb_813a_32befdc6c0a0row6_col9 {\n",
       "            background-color:  #b40426;\n",
       "            color:  #f1f1f1;\n",
       "        }    #T_4ef2362e_55e5_11eb_813a_32befdc6c0a0row6_col10 {\n",
       "            background-color:  #b40426;\n",
       "            color:  #f1f1f1;\n",
       "        }    #T_4ef2362e_55e5_11eb_813a_32befdc6c0a0row7_col0 {\n",
       "            background-color:  #3d50c3;\n",
       "            color:  #f1f1f1;\n",
       "        }    #T_4ef2362e_55e5_11eb_813a_32befdc6c0a0row7_col1 {\n",
       "            background-color:  #4a63d3;\n",
       "            color:  #f1f1f1;\n",
       "        }    #T_4ef2362e_55e5_11eb_813a_32befdc6c0a0row7_col2 {\n",
       "            background-color:  #b40426;\n",
       "            color:  #f1f1f1;\n",
       "        }    #T_4ef2362e_55e5_11eb_813a_32befdc6c0a0row7_col3 {\n",
       "            background-color:  #4a63d3;\n",
       "            color:  #f1f1f1;\n",
       "        }    #T_4ef2362e_55e5_11eb_813a_32befdc6c0a0row7_col4 {\n",
       "            background-color:  #4a63d3;\n",
       "            color:  #f1f1f1;\n",
       "        }    #T_4ef2362e_55e5_11eb_813a_32befdc6c0a0row7_col5 {\n",
       "            background-color:  #5e7de7;\n",
       "            color:  #000000;\n",
       "        }    #T_4ef2362e_55e5_11eb_813a_32befdc6c0a0row7_col6 {\n",
       "            background-color:  #b40426;\n",
       "            color:  #f1f1f1;\n",
       "        }    #T_4ef2362e_55e5_11eb_813a_32befdc6c0a0row7_col7 {\n",
       "            background-color:  #b40426;\n",
       "            color:  #f1f1f1;\n",
       "        }    #T_4ef2362e_55e5_11eb_813a_32befdc6c0a0row7_col8 {\n",
       "            background-color:  #b40426;\n",
       "            color:  #f1f1f1;\n",
       "        }    #T_4ef2362e_55e5_11eb_813a_32befdc6c0a0row7_col9 {\n",
       "            background-color:  #b40426;\n",
       "            color:  #f1f1f1;\n",
       "        }    #T_4ef2362e_55e5_11eb_813a_32befdc6c0a0row7_col10 {\n",
       "            background-color:  #b40426;\n",
       "            color:  #f1f1f1;\n",
       "        }    #T_4ef2362e_55e5_11eb_813a_32befdc6c0a0row8_col0 {\n",
       "            background-color:  #3d50c3;\n",
       "            color:  #f1f1f1;\n",
       "        }    #T_4ef2362e_55e5_11eb_813a_32befdc6c0a0row8_col1 {\n",
       "            background-color:  #4a63d3;\n",
       "            color:  #f1f1f1;\n",
       "        }    #T_4ef2362e_55e5_11eb_813a_32befdc6c0a0row8_col2 {\n",
       "            background-color:  #b40426;\n",
       "            color:  #f1f1f1;\n",
       "        }    #T_4ef2362e_55e5_11eb_813a_32befdc6c0a0row8_col3 {\n",
       "            background-color:  #4a63d3;\n",
       "            color:  #f1f1f1;\n",
       "        }    #T_4ef2362e_55e5_11eb_813a_32befdc6c0a0row8_col4 {\n",
       "            background-color:  #4a63d3;\n",
       "            color:  #f1f1f1;\n",
       "        }    #T_4ef2362e_55e5_11eb_813a_32befdc6c0a0row8_col5 {\n",
       "            background-color:  #5e7de7;\n",
       "            color:  #000000;\n",
       "        }    #T_4ef2362e_55e5_11eb_813a_32befdc6c0a0row8_col6 {\n",
       "            background-color:  #b40426;\n",
       "            color:  #f1f1f1;\n",
       "        }    #T_4ef2362e_55e5_11eb_813a_32befdc6c0a0row8_col7 {\n",
       "            background-color:  #b40426;\n",
       "            color:  #f1f1f1;\n",
       "        }    #T_4ef2362e_55e5_11eb_813a_32befdc6c0a0row8_col8 {\n",
       "            background-color:  #b40426;\n",
       "            color:  #f1f1f1;\n",
       "        }    #T_4ef2362e_55e5_11eb_813a_32befdc6c0a0row8_col9 {\n",
       "            background-color:  #b40426;\n",
       "            color:  #f1f1f1;\n",
       "        }    #T_4ef2362e_55e5_11eb_813a_32befdc6c0a0row8_col10 {\n",
       "            background-color:  #b40426;\n",
       "            color:  #f1f1f1;\n",
       "        }    #T_4ef2362e_55e5_11eb_813a_32befdc6c0a0row9_col0 {\n",
       "            background-color:  #3d50c3;\n",
       "            color:  #f1f1f1;\n",
       "        }    #T_4ef2362e_55e5_11eb_813a_32befdc6c0a0row9_col1 {\n",
       "            background-color:  #4a63d3;\n",
       "            color:  #f1f1f1;\n",
       "        }    #T_4ef2362e_55e5_11eb_813a_32befdc6c0a0row9_col2 {\n",
       "            background-color:  #b40426;\n",
       "            color:  #f1f1f1;\n",
       "        }    #T_4ef2362e_55e5_11eb_813a_32befdc6c0a0row9_col3 {\n",
       "            background-color:  #4a63d3;\n",
       "            color:  #f1f1f1;\n",
       "        }    #T_4ef2362e_55e5_11eb_813a_32befdc6c0a0row9_col4 {\n",
       "            background-color:  #4a63d3;\n",
       "            color:  #f1f1f1;\n",
       "        }    #T_4ef2362e_55e5_11eb_813a_32befdc6c0a0row9_col5 {\n",
       "            background-color:  #5e7de7;\n",
       "            color:  #000000;\n",
       "        }    #T_4ef2362e_55e5_11eb_813a_32befdc6c0a0row9_col6 {\n",
       "            background-color:  #b40426;\n",
       "            color:  #f1f1f1;\n",
       "        }    #T_4ef2362e_55e5_11eb_813a_32befdc6c0a0row9_col7 {\n",
       "            background-color:  #b40426;\n",
       "            color:  #f1f1f1;\n",
       "        }    #T_4ef2362e_55e5_11eb_813a_32befdc6c0a0row9_col8 {\n",
       "            background-color:  #b40426;\n",
       "            color:  #f1f1f1;\n",
       "        }    #T_4ef2362e_55e5_11eb_813a_32befdc6c0a0row9_col9 {\n",
       "            background-color:  #b40426;\n",
       "            color:  #f1f1f1;\n",
       "        }    #T_4ef2362e_55e5_11eb_813a_32befdc6c0a0row9_col10 {\n",
       "            background-color:  #b40426;\n",
       "            color:  #f1f1f1;\n",
       "        }    #T_4ef2362e_55e5_11eb_813a_32befdc6c0a0row10_col0 {\n",
       "            background-color:  #3d50c3;\n",
       "            color:  #f1f1f1;\n",
       "        }    #T_4ef2362e_55e5_11eb_813a_32befdc6c0a0row10_col1 {\n",
       "            background-color:  #4a63d3;\n",
       "            color:  #f1f1f1;\n",
       "        }    #T_4ef2362e_55e5_11eb_813a_32befdc6c0a0row10_col2 {\n",
       "            background-color:  #b40426;\n",
       "            color:  #f1f1f1;\n",
       "        }    #T_4ef2362e_55e5_11eb_813a_32befdc6c0a0row10_col3 {\n",
       "            background-color:  #4a63d3;\n",
       "            color:  #f1f1f1;\n",
       "        }    #T_4ef2362e_55e5_11eb_813a_32befdc6c0a0row10_col4 {\n",
       "            background-color:  #4a63d3;\n",
       "            color:  #f1f1f1;\n",
       "        }    #T_4ef2362e_55e5_11eb_813a_32befdc6c0a0row10_col5 {\n",
       "            background-color:  #5e7de7;\n",
       "            color:  #000000;\n",
       "        }    #T_4ef2362e_55e5_11eb_813a_32befdc6c0a0row10_col6 {\n",
       "            background-color:  #b40426;\n",
       "            color:  #f1f1f1;\n",
       "        }    #T_4ef2362e_55e5_11eb_813a_32befdc6c0a0row10_col7 {\n",
       "            background-color:  #b40426;\n",
       "            color:  #f1f1f1;\n",
       "        }    #T_4ef2362e_55e5_11eb_813a_32befdc6c0a0row10_col8 {\n",
       "            background-color:  #b40426;\n",
       "            color:  #f1f1f1;\n",
       "        }    #T_4ef2362e_55e5_11eb_813a_32befdc6c0a0row10_col9 {\n",
       "            background-color:  #b40426;\n",
       "            color:  #f1f1f1;\n",
       "        }    #T_4ef2362e_55e5_11eb_813a_32befdc6c0a0row10_col10 {\n",
       "            background-color:  #b40426;\n",
       "            color:  #f1f1f1;\n",
       "        }</style><table id=\"T_4ef2362e_55e5_11eb_813a_32befdc6c0a0\" ><thead>    <tr>        <th class=\"blank level0\" ></th>        <th class=\"col_heading level0 col0\" >Number of reviews</th>        <th class=\"col_heading level0 col1\" >Number of ratings</th>        <th class=\"col_heading level0 col2\" >Average rating</th>        <th class=\"col_heading level0 col3\" >Pages</th>        <th class=\"col_heading level0 col4\" >Series</th>        <th class=\"col_heading level0 col5\" >Awards</th>        <th class=\"col_heading level0 col6\" >minmax_norm_ratings</th>        <th class=\"col_heading level0 col7\" >mean_norm_ratings</th>        <th class=\"col_heading level0 col8\" >minmax_norm_rating</th>        <th class=\"col_heading level0 col9\" >minmax_norm_rating1</th>        <th class=\"col_heading level0 col10\" >meannorm_rating</th>    </tr></thead><tbody>\n",
       "                <tr>\n",
       "                        <th id=\"T_4ef2362e_55e5_11eb_813a_32befdc6c0a0level0_row0\" class=\"row_heading level0 row0\" >Number of reviews</th>\n",
       "                        <td id=\"T_4ef2362e_55e5_11eb_813a_32befdc6c0a0row0_col0\" class=\"data row0 col0\" >1.000000</td>\n",
       "                        <td id=\"T_4ef2362e_55e5_11eb_813a_32befdc6c0a0row0_col1\" class=\"data row0 col1\" >0.879858</td>\n",
       "                        <td id=\"T_4ef2362e_55e5_11eb_813a_32befdc6c0a0row0_col2\" class=\"data row0 col2\" >0.115166</td>\n",
       "                        <td id=\"T_4ef2362e_55e5_11eb_813a_32befdc6c0a0row0_col3\" class=\"data row0 col3\" >0.123137</td>\n",
       "                        <td id=\"T_4ef2362e_55e5_11eb_813a_32befdc6c0a0row0_col4\" class=\"data row0 col4\" >0.106064</td>\n",
       "                        <td id=\"T_4ef2362e_55e5_11eb_813a_32befdc6c0a0row0_col5\" class=\"data row0 col5\" >0.643822</td>\n",
       "                        <td id=\"T_4ef2362e_55e5_11eb_813a_32befdc6c0a0row0_col6\" class=\"data row0 col6\" >0.115166</td>\n",
       "                        <td id=\"T_4ef2362e_55e5_11eb_813a_32befdc6c0a0row0_col7\" class=\"data row0 col7\" >0.115166</td>\n",
       "                        <td id=\"T_4ef2362e_55e5_11eb_813a_32befdc6c0a0row0_col8\" class=\"data row0 col8\" >0.115166</td>\n",
       "                        <td id=\"T_4ef2362e_55e5_11eb_813a_32befdc6c0a0row0_col9\" class=\"data row0 col9\" >0.115166</td>\n",
       "                        <td id=\"T_4ef2362e_55e5_11eb_813a_32befdc6c0a0row0_col10\" class=\"data row0 col10\" >0.115166</td>\n",
       "            </tr>\n",
       "            <tr>\n",
       "                        <th id=\"T_4ef2362e_55e5_11eb_813a_32befdc6c0a0level0_row1\" class=\"row_heading level0 row1\" >Number of ratings</th>\n",
       "                        <td id=\"T_4ef2362e_55e5_11eb_813a_32befdc6c0a0row1_col0\" class=\"data row1 col0\" >0.879858</td>\n",
       "                        <td id=\"T_4ef2362e_55e5_11eb_813a_32befdc6c0a0row1_col1\" class=\"data row1 col1\" >1.000000</td>\n",
       "                        <td id=\"T_4ef2362e_55e5_11eb_813a_32befdc6c0a0row1_col2\" class=\"data row1 col2\" >0.099589</td>\n",
       "                        <td id=\"T_4ef2362e_55e5_11eb_813a_32befdc6c0a0row1_col3\" class=\"data row1 col3\" >0.050776</td>\n",
       "                        <td id=\"T_4ef2362e_55e5_11eb_813a_32befdc6c0a0row1_col4\" class=\"data row1 col4\" >0.050424</td>\n",
       "                        <td id=\"T_4ef2362e_55e5_11eb_813a_32befdc6c0a0row1_col5\" class=\"data row1 col5\" >0.619638</td>\n",
       "                        <td id=\"T_4ef2362e_55e5_11eb_813a_32befdc6c0a0row1_col6\" class=\"data row1 col6\" >0.099589</td>\n",
       "                        <td id=\"T_4ef2362e_55e5_11eb_813a_32befdc6c0a0row1_col7\" class=\"data row1 col7\" >0.099589</td>\n",
       "                        <td id=\"T_4ef2362e_55e5_11eb_813a_32befdc6c0a0row1_col8\" class=\"data row1 col8\" >0.099589</td>\n",
       "                        <td id=\"T_4ef2362e_55e5_11eb_813a_32befdc6c0a0row1_col9\" class=\"data row1 col9\" >0.099589</td>\n",
       "                        <td id=\"T_4ef2362e_55e5_11eb_813a_32befdc6c0a0row1_col10\" class=\"data row1 col10\" >0.099589</td>\n",
       "            </tr>\n",
       "            <tr>\n",
       "                        <th id=\"T_4ef2362e_55e5_11eb_813a_32befdc6c0a0level0_row2\" class=\"row_heading level0 row2\" >Average rating</th>\n",
       "                        <td id=\"T_4ef2362e_55e5_11eb_813a_32befdc6c0a0row2_col0\" class=\"data row2 col0\" >0.115166</td>\n",
       "                        <td id=\"T_4ef2362e_55e5_11eb_813a_32befdc6c0a0row2_col1\" class=\"data row2 col1\" >0.099589</td>\n",
       "                        <td id=\"T_4ef2362e_55e5_11eb_813a_32befdc6c0a0row2_col2\" class=\"data row2 col2\" >1.000000</td>\n",
       "                        <td id=\"T_4ef2362e_55e5_11eb_813a_32befdc6c0a0row2_col3\" class=\"data row2 col3\" >0.089064</td>\n",
       "                        <td id=\"T_4ef2362e_55e5_11eb_813a_32befdc6c0a0row2_col4\" class=\"data row2 col4\" >0.099415</td>\n",
       "                        <td id=\"T_4ef2362e_55e5_11eb_813a_32befdc6c0a0row2_col5\" class=\"data row2 col5\" >0.148611</td>\n",
       "                        <td id=\"T_4ef2362e_55e5_11eb_813a_32befdc6c0a0row2_col6\" class=\"data row2 col6\" >1.000000</td>\n",
       "                        <td id=\"T_4ef2362e_55e5_11eb_813a_32befdc6c0a0row2_col7\" class=\"data row2 col7\" >1.000000</td>\n",
       "                        <td id=\"T_4ef2362e_55e5_11eb_813a_32befdc6c0a0row2_col8\" class=\"data row2 col8\" >1.000000</td>\n",
       "                        <td id=\"T_4ef2362e_55e5_11eb_813a_32befdc6c0a0row2_col9\" class=\"data row2 col9\" >1.000000</td>\n",
       "                        <td id=\"T_4ef2362e_55e5_11eb_813a_32befdc6c0a0row2_col10\" class=\"data row2 col10\" >1.000000</td>\n",
       "            </tr>\n",
       "            <tr>\n",
       "                        <th id=\"T_4ef2362e_55e5_11eb_813a_32befdc6c0a0level0_row3\" class=\"row_heading level0 row3\" >Pages</th>\n",
       "                        <td id=\"T_4ef2362e_55e5_11eb_813a_32befdc6c0a0row3_col0\" class=\"data row3 col0\" >0.123137</td>\n",
       "                        <td id=\"T_4ef2362e_55e5_11eb_813a_32befdc6c0a0row3_col1\" class=\"data row3 col1\" >0.050776</td>\n",
       "                        <td id=\"T_4ef2362e_55e5_11eb_813a_32befdc6c0a0row3_col2\" class=\"data row3 col2\" >0.089064</td>\n",
       "                        <td id=\"T_4ef2362e_55e5_11eb_813a_32befdc6c0a0row3_col3\" class=\"data row3 col3\" >1.000000</td>\n",
       "                        <td id=\"T_4ef2362e_55e5_11eb_813a_32befdc6c0a0row3_col4\" class=\"data row3 col4\" >0.146901</td>\n",
       "                        <td id=\"T_4ef2362e_55e5_11eb_813a_32befdc6c0a0row3_col5\" class=\"data row3 col5\" >0.039484</td>\n",
       "                        <td id=\"T_4ef2362e_55e5_11eb_813a_32befdc6c0a0row3_col6\" class=\"data row3 col6\" >0.089064</td>\n",
       "                        <td id=\"T_4ef2362e_55e5_11eb_813a_32befdc6c0a0row3_col7\" class=\"data row3 col7\" >0.089064</td>\n",
       "                        <td id=\"T_4ef2362e_55e5_11eb_813a_32befdc6c0a0row3_col8\" class=\"data row3 col8\" >0.089064</td>\n",
       "                        <td id=\"T_4ef2362e_55e5_11eb_813a_32befdc6c0a0row3_col9\" class=\"data row3 col9\" >0.089064</td>\n",
       "                        <td id=\"T_4ef2362e_55e5_11eb_813a_32befdc6c0a0row3_col10\" class=\"data row3 col10\" >0.089064</td>\n",
       "            </tr>\n",
       "            <tr>\n",
       "                        <th id=\"T_4ef2362e_55e5_11eb_813a_32befdc6c0a0level0_row4\" class=\"row_heading level0 row4\" >Series</th>\n",
       "                        <td id=\"T_4ef2362e_55e5_11eb_813a_32befdc6c0a0row4_col0\" class=\"data row4 col0\" >0.106064</td>\n",
       "                        <td id=\"T_4ef2362e_55e5_11eb_813a_32befdc6c0a0row4_col1\" class=\"data row4 col1\" >0.050424</td>\n",
       "                        <td id=\"T_4ef2362e_55e5_11eb_813a_32befdc6c0a0row4_col2\" class=\"data row4 col2\" >0.099415</td>\n",
       "                        <td id=\"T_4ef2362e_55e5_11eb_813a_32befdc6c0a0row4_col3\" class=\"data row4 col3\" >0.146901</td>\n",
       "                        <td id=\"T_4ef2362e_55e5_11eb_813a_32befdc6c0a0row4_col4\" class=\"data row4 col4\" >1.000000</td>\n",
       "                        <td id=\"T_4ef2362e_55e5_11eb_813a_32befdc6c0a0row4_col5\" class=\"data row4 col5\" >0.125940</td>\n",
       "                        <td id=\"T_4ef2362e_55e5_11eb_813a_32befdc6c0a0row4_col6\" class=\"data row4 col6\" >0.099415</td>\n",
       "                        <td id=\"T_4ef2362e_55e5_11eb_813a_32befdc6c0a0row4_col7\" class=\"data row4 col7\" >0.099415</td>\n",
       "                        <td id=\"T_4ef2362e_55e5_11eb_813a_32befdc6c0a0row4_col8\" class=\"data row4 col8\" >0.099415</td>\n",
       "                        <td id=\"T_4ef2362e_55e5_11eb_813a_32befdc6c0a0row4_col9\" class=\"data row4 col9\" >0.099415</td>\n",
       "                        <td id=\"T_4ef2362e_55e5_11eb_813a_32befdc6c0a0row4_col10\" class=\"data row4 col10\" >0.099415</td>\n",
       "            </tr>\n",
       "            <tr>\n",
       "                        <th id=\"T_4ef2362e_55e5_11eb_813a_32befdc6c0a0level0_row5\" class=\"row_heading level0 row5\" >Awards</th>\n",
       "                        <td id=\"T_4ef2362e_55e5_11eb_813a_32befdc6c0a0row5_col0\" class=\"data row5 col0\" >0.643822</td>\n",
       "                        <td id=\"T_4ef2362e_55e5_11eb_813a_32befdc6c0a0row5_col1\" class=\"data row5 col1\" >0.619638</td>\n",
       "                        <td id=\"T_4ef2362e_55e5_11eb_813a_32befdc6c0a0row5_col2\" class=\"data row5 col2\" >0.148611</td>\n",
       "                        <td id=\"T_4ef2362e_55e5_11eb_813a_32befdc6c0a0row5_col3\" class=\"data row5 col3\" >0.039484</td>\n",
       "                        <td id=\"T_4ef2362e_55e5_11eb_813a_32befdc6c0a0row5_col4\" class=\"data row5 col4\" >0.125940</td>\n",
       "                        <td id=\"T_4ef2362e_55e5_11eb_813a_32befdc6c0a0row5_col5\" class=\"data row5 col5\" >1.000000</td>\n",
       "                        <td id=\"T_4ef2362e_55e5_11eb_813a_32befdc6c0a0row5_col6\" class=\"data row5 col6\" >0.148611</td>\n",
       "                        <td id=\"T_4ef2362e_55e5_11eb_813a_32befdc6c0a0row5_col7\" class=\"data row5 col7\" >0.148611</td>\n",
       "                        <td id=\"T_4ef2362e_55e5_11eb_813a_32befdc6c0a0row5_col8\" class=\"data row5 col8\" >0.148611</td>\n",
       "                        <td id=\"T_4ef2362e_55e5_11eb_813a_32befdc6c0a0row5_col9\" class=\"data row5 col9\" >0.148611</td>\n",
       "                        <td id=\"T_4ef2362e_55e5_11eb_813a_32befdc6c0a0row5_col10\" class=\"data row5 col10\" >0.148611</td>\n",
       "            </tr>\n",
       "            <tr>\n",
       "                        <th id=\"T_4ef2362e_55e5_11eb_813a_32befdc6c0a0level0_row6\" class=\"row_heading level0 row6\" >minmax_norm_ratings</th>\n",
       "                        <td id=\"T_4ef2362e_55e5_11eb_813a_32befdc6c0a0row6_col0\" class=\"data row6 col0\" >0.115166</td>\n",
       "                        <td id=\"T_4ef2362e_55e5_11eb_813a_32befdc6c0a0row6_col1\" class=\"data row6 col1\" >0.099589</td>\n",
       "                        <td id=\"T_4ef2362e_55e5_11eb_813a_32befdc6c0a0row6_col2\" class=\"data row6 col2\" >1.000000</td>\n",
       "                        <td id=\"T_4ef2362e_55e5_11eb_813a_32befdc6c0a0row6_col3\" class=\"data row6 col3\" >0.089064</td>\n",
       "                        <td id=\"T_4ef2362e_55e5_11eb_813a_32befdc6c0a0row6_col4\" class=\"data row6 col4\" >0.099415</td>\n",
       "                        <td id=\"T_4ef2362e_55e5_11eb_813a_32befdc6c0a0row6_col5\" class=\"data row6 col5\" >0.148611</td>\n",
       "                        <td id=\"T_4ef2362e_55e5_11eb_813a_32befdc6c0a0row6_col6\" class=\"data row6 col6\" >1.000000</td>\n",
       "                        <td id=\"T_4ef2362e_55e5_11eb_813a_32befdc6c0a0row6_col7\" class=\"data row6 col7\" >1.000000</td>\n",
       "                        <td id=\"T_4ef2362e_55e5_11eb_813a_32befdc6c0a0row6_col8\" class=\"data row6 col8\" >1.000000</td>\n",
       "                        <td id=\"T_4ef2362e_55e5_11eb_813a_32befdc6c0a0row6_col9\" class=\"data row6 col9\" >1.000000</td>\n",
       "                        <td id=\"T_4ef2362e_55e5_11eb_813a_32befdc6c0a0row6_col10\" class=\"data row6 col10\" >1.000000</td>\n",
       "            </tr>\n",
       "            <tr>\n",
       "                        <th id=\"T_4ef2362e_55e5_11eb_813a_32befdc6c0a0level0_row7\" class=\"row_heading level0 row7\" >mean_norm_ratings</th>\n",
       "                        <td id=\"T_4ef2362e_55e5_11eb_813a_32befdc6c0a0row7_col0\" class=\"data row7 col0\" >0.115166</td>\n",
       "                        <td id=\"T_4ef2362e_55e5_11eb_813a_32befdc6c0a0row7_col1\" class=\"data row7 col1\" >0.099589</td>\n",
       "                        <td id=\"T_4ef2362e_55e5_11eb_813a_32befdc6c0a0row7_col2\" class=\"data row7 col2\" >1.000000</td>\n",
       "                        <td id=\"T_4ef2362e_55e5_11eb_813a_32befdc6c0a0row7_col3\" class=\"data row7 col3\" >0.089064</td>\n",
       "                        <td id=\"T_4ef2362e_55e5_11eb_813a_32befdc6c0a0row7_col4\" class=\"data row7 col4\" >0.099415</td>\n",
       "                        <td id=\"T_4ef2362e_55e5_11eb_813a_32befdc6c0a0row7_col5\" class=\"data row7 col5\" >0.148611</td>\n",
       "                        <td id=\"T_4ef2362e_55e5_11eb_813a_32befdc6c0a0row7_col6\" class=\"data row7 col6\" >1.000000</td>\n",
       "                        <td id=\"T_4ef2362e_55e5_11eb_813a_32befdc6c0a0row7_col7\" class=\"data row7 col7\" >1.000000</td>\n",
       "                        <td id=\"T_4ef2362e_55e5_11eb_813a_32befdc6c0a0row7_col8\" class=\"data row7 col8\" >1.000000</td>\n",
       "                        <td id=\"T_4ef2362e_55e5_11eb_813a_32befdc6c0a0row7_col9\" class=\"data row7 col9\" >1.000000</td>\n",
       "                        <td id=\"T_4ef2362e_55e5_11eb_813a_32befdc6c0a0row7_col10\" class=\"data row7 col10\" >1.000000</td>\n",
       "            </tr>\n",
       "            <tr>\n",
       "                        <th id=\"T_4ef2362e_55e5_11eb_813a_32befdc6c0a0level0_row8\" class=\"row_heading level0 row8\" >minmax_norm_rating</th>\n",
       "                        <td id=\"T_4ef2362e_55e5_11eb_813a_32befdc6c0a0row8_col0\" class=\"data row8 col0\" >0.115166</td>\n",
       "                        <td id=\"T_4ef2362e_55e5_11eb_813a_32befdc6c0a0row8_col1\" class=\"data row8 col1\" >0.099589</td>\n",
       "                        <td id=\"T_4ef2362e_55e5_11eb_813a_32befdc6c0a0row8_col2\" class=\"data row8 col2\" >1.000000</td>\n",
       "                        <td id=\"T_4ef2362e_55e5_11eb_813a_32befdc6c0a0row8_col3\" class=\"data row8 col3\" >0.089064</td>\n",
       "                        <td id=\"T_4ef2362e_55e5_11eb_813a_32befdc6c0a0row8_col4\" class=\"data row8 col4\" >0.099415</td>\n",
       "                        <td id=\"T_4ef2362e_55e5_11eb_813a_32befdc6c0a0row8_col5\" class=\"data row8 col5\" >0.148611</td>\n",
       "                        <td id=\"T_4ef2362e_55e5_11eb_813a_32befdc6c0a0row8_col6\" class=\"data row8 col6\" >1.000000</td>\n",
       "                        <td id=\"T_4ef2362e_55e5_11eb_813a_32befdc6c0a0row8_col7\" class=\"data row8 col7\" >1.000000</td>\n",
       "                        <td id=\"T_4ef2362e_55e5_11eb_813a_32befdc6c0a0row8_col8\" class=\"data row8 col8\" >1.000000</td>\n",
       "                        <td id=\"T_4ef2362e_55e5_11eb_813a_32befdc6c0a0row8_col9\" class=\"data row8 col9\" >1.000000</td>\n",
       "                        <td id=\"T_4ef2362e_55e5_11eb_813a_32befdc6c0a0row8_col10\" class=\"data row8 col10\" >1.000000</td>\n",
       "            </tr>\n",
       "            <tr>\n",
       "                        <th id=\"T_4ef2362e_55e5_11eb_813a_32befdc6c0a0level0_row9\" class=\"row_heading level0 row9\" >minmax_norm_rating1</th>\n",
       "                        <td id=\"T_4ef2362e_55e5_11eb_813a_32befdc6c0a0row9_col0\" class=\"data row9 col0\" >0.115166</td>\n",
       "                        <td id=\"T_4ef2362e_55e5_11eb_813a_32befdc6c0a0row9_col1\" class=\"data row9 col1\" >0.099589</td>\n",
       "                        <td id=\"T_4ef2362e_55e5_11eb_813a_32befdc6c0a0row9_col2\" class=\"data row9 col2\" >1.000000</td>\n",
       "                        <td id=\"T_4ef2362e_55e5_11eb_813a_32befdc6c0a0row9_col3\" class=\"data row9 col3\" >0.089064</td>\n",
       "                        <td id=\"T_4ef2362e_55e5_11eb_813a_32befdc6c0a0row9_col4\" class=\"data row9 col4\" >0.099415</td>\n",
       "                        <td id=\"T_4ef2362e_55e5_11eb_813a_32befdc6c0a0row9_col5\" class=\"data row9 col5\" >0.148611</td>\n",
       "                        <td id=\"T_4ef2362e_55e5_11eb_813a_32befdc6c0a0row9_col6\" class=\"data row9 col6\" >1.000000</td>\n",
       "                        <td id=\"T_4ef2362e_55e5_11eb_813a_32befdc6c0a0row9_col7\" class=\"data row9 col7\" >1.000000</td>\n",
       "                        <td id=\"T_4ef2362e_55e5_11eb_813a_32befdc6c0a0row9_col8\" class=\"data row9 col8\" >1.000000</td>\n",
       "                        <td id=\"T_4ef2362e_55e5_11eb_813a_32befdc6c0a0row9_col9\" class=\"data row9 col9\" >1.000000</td>\n",
       "                        <td id=\"T_4ef2362e_55e5_11eb_813a_32befdc6c0a0row9_col10\" class=\"data row9 col10\" >1.000000</td>\n",
       "            </tr>\n",
       "            <tr>\n",
       "                        <th id=\"T_4ef2362e_55e5_11eb_813a_32befdc6c0a0level0_row10\" class=\"row_heading level0 row10\" >meannorm_rating</th>\n",
       "                        <td id=\"T_4ef2362e_55e5_11eb_813a_32befdc6c0a0row10_col0\" class=\"data row10 col0\" >0.115166</td>\n",
       "                        <td id=\"T_4ef2362e_55e5_11eb_813a_32befdc6c0a0row10_col1\" class=\"data row10 col1\" >0.099589</td>\n",
       "                        <td id=\"T_4ef2362e_55e5_11eb_813a_32befdc6c0a0row10_col2\" class=\"data row10 col2\" >1.000000</td>\n",
       "                        <td id=\"T_4ef2362e_55e5_11eb_813a_32befdc6c0a0row10_col3\" class=\"data row10 col3\" >0.089064</td>\n",
       "                        <td id=\"T_4ef2362e_55e5_11eb_813a_32befdc6c0a0row10_col4\" class=\"data row10 col4\" >0.099415</td>\n",
       "                        <td id=\"T_4ef2362e_55e5_11eb_813a_32befdc6c0a0row10_col5\" class=\"data row10 col5\" >0.148611</td>\n",
       "                        <td id=\"T_4ef2362e_55e5_11eb_813a_32befdc6c0a0row10_col6\" class=\"data row10 col6\" >1.000000</td>\n",
       "                        <td id=\"T_4ef2362e_55e5_11eb_813a_32befdc6c0a0row10_col7\" class=\"data row10 col7\" >1.000000</td>\n",
       "                        <td id=\"T_4ef2362e_55e5_11eb_813a_32befdc6c0a0row10_col8\" class=\"data row10 col8\" >1.000000</td>\n",
       "                        <td id=\"T_4ef2362e_55e5_11eb_813a_32befdc6c0a0row10_col9\" class=\"data row10 col9\" >1.000000</td>\n",
       "                        <td id=\"T_4ef2362e_55e5_11eb_813a_32befdc6c0a0row10_col10\" class=\"data row10 col10\" >1.000000</td>\n",
       "            </tr>\n",
       "    </tbody></table>"
      ],
      "text/plain": [
       "<pandas.io.formats.style.Styler at 0x7f444ea09350>"
      ]
     },
     "execution_count": 41,
     "metadata": {},
     "output_type": "execute_result"
    }
   ],
   "source": [
    "corr = df1.corr()\n",
    "corr.style.background_gradient(cmap='coolwarm')\n",
    "\n",
    "# fig, ax = plt.subplots()\n",
    "# ax.matshow(corr)"
   ]
  },
  {
   "cell_type": "markdown",
   "metadata": {
    "cell_id": "00009-96e03057-fd23-42f7-bb1b-d5004fc90437",
    "deepnote_cell_type": "markdown",
    "tags": []
   },
   "source": [
    "### Exercise 3\n",
    "Visualise the avg_rating distribution."
   ]
  },
  {
   "cell_type": "code",
   "execution_count": null,
   "metadata": {
    "cell_id": "00007-accd30c1-c368-4745-b5fd-c6ccc37b0d5f",
    "deepnote_cell_type": "code",
    "deepnote_to_be_reexecuted": false,
    "execution_millis": 590,
    "execution_start": 1610548720625,
    "source_hash": "3efc26de",
    "tags": []
   },
   "outputs": [
    {
     "data": {
      "text/plain": [
       "<AxesSubplot:label='7ec4dcce-62fb-4cf9-98e4-8556cbf93df1', ylabel='Density'>"
      ]
     },
     "execution_count": 10,
     "metadata": {},
     "output_type": "execute_result"
    },
    {
     "data": {
      "image/png": "[encoded data removed]",
      "text/plain": [
       "<Figure size 720x576 with 2 Axes>"
      ]
     },
     "metadata": {
      "needs_background": "light"
     },
     "output_type": "display_data"
    }
   ],
   "source": [
    "\"\"\"Exercise 3\"\"\"\n",
    "# ratings = list(range(1,6))\n",
    "#plt.figure(figsize=(10,8))\n",
    "#plt.hist(df1['Average rating'], bins=np.arange(1,5,0.1), label = 'Average Rating counts')\n",
    "#plt.xlabel('Rating Scale')\n",
    "#plt.ylabel('Rating Counts')\n",
    "#plt.legend(loc='upper left')\n",
    "#plt.xticks(ratings)\n",
    "#plt.title('Distribution of Average Rating')\n",
    "#plt.show()\n",
    "\n",
    "# alternative:\n",
    "data = pd.read_csv('Processed.csv')\n",
    "average = data['Average rating']\n",
    "fig,ax = plt.subplots(figsize=(10,8))\n",
    "ax.hist(average, bins=(np.arange(1,5,0.1)))\n",
    "ax.set_ylabel('Rating counts')\n",
    "a1 = ax.twinx()\n",
    "a1.hist(average, bins=(np.arange(1,5,0.1)), density= True)\n",
    "ax.set_xlim(2.5,5)\n",
    "ax.set_xlabel('Average rating')\n",
    "average.plot(kind='kde')\n"
   ]
  },
  {
   "cell_type": "code",
   "execution_count": null,
   "metadata": {
    "cell_id": "00015-a42f4c05-3cd1-45d3-9605-84817d431f88",
    "deepnote_cell_type": "code",
    "deepnote_to_be_reexecuted": false,
    "execution_millis": 88,
    "execution_start": 1610574347911,
    "source_hash": "9390f6b0",
    "tags": []
   },
   "outputs": [],
   "source": [
    "fig = ff.create_distplot([data['Average rating']], ['distplot'])\n",
    "fig.show()"
   ]
  },
  {
   "cell_type": "markdown",
   "metadata": {
    "cell_id": "00010-7cea929e-0010-4439-b7a4-b6f6e030f4f1",
    "deepnote_cell_type": "markdown",
    "tags": []
   },
   "source": [
    "### Exercise 4\n",
    "Visualise the minmax_norm_rating distribution."
   ]
  },
  {
   "cell_type": "code",
   "execution_count": null,
   "metadata": {
    "cell_id": "00008-909f8b97-a894-4d07-9753-b1e8d235463c",
    "deepnote_cell_type": "code",
    "deepnote_to_be_reexecuted": false,
    "execution_millis": 484,
    "execution_start": 1610548721222,
    "source_hash": "bfa286ac",
    "tags": []
   },
   "outputs": [
    {
     "data": {
      "image/png": "[encoded data removed]",
      "text/plain": [
       "<Figure size 720x576 with 2 Axes>"
      ]
     },
     "metadata": {
      "needs_background": "light"
     },
     "output_type": "display_data"
    }
   ],
   "source": [
    "\"\"\"Exercise 4\"\"\"\n",
    "#ratings = list(range(1,11))\n",
    "#plt.figure(figsize=(10,8))\n",
    "#plt.hist(df1['minmax_norm_rating'], bins=np.arange(1,10,0.25), label = 'MinMax Norm rating counts')\n",
    "#plt.plot()\n",
    "#plt.xlabel('Rating Scale')\n",
    "#plt.ylabel('Rating Counts')\n",
    "#plt.legend(loc='upper left')\n",
    "#plt.xticks(ratings)\n",
    "#plt.title('Distribution of MinMax Norm Rating')\n",
    "#plt.show()\n",
    "\n",
    "\n",
    "\n",
    "#I have created somewhat nicer looking graph I think\n",
    "data = pd.read_csv('Processed.csv')\n",
    "minmax = data['minmax_norm_ratings']\n",
    "fig,ax = plt.subplots(figsize=(10,8))\n",
    "ax.hist(minmax, bins=np.arange(1,10,0.25))\n",
    "ax.set_ylabel('Rating Counts')\n",
    "a1 = ax.twinx()\n",
    "a1.hist(minmax, bins=np.arange(1,10,0.25), density=True)\n",
    "minmax.plot(kind='kde')\n",
    "ax.set_xlim(0,11)\n",
    "ax.set_xticks(np.arange(0,11))\n",
    "plt.show()\n",
    "\n",
    "## That looks good!! \n",
    "## We can even plot better looking graph with seaborn"
   ]
  },
  {
   "cell_type": "markdown",
   "metadata": {
    "cell_id": "00011-50de6ad9-f06e-44e0-a0e1-984d06e57bda",
    "deepnote_cell_type": "markdown",
    "tags": []
   },
   "source": [
    "### Exercise 5\n",
    "Visualise the mean_norm_rating distribution."
   ]
  },
  {
   "cell_type": "code",
   "execution_count": null,
   "metadata": {
    "cell_id": "00009-92fd3d75-8b3a-4315-9af1-ad0ec449cec0",
    "deepnote_cell_type": "code",
    "deepnote_to_be_reexecuted": false,
    "execution_millis": 508,
    "execution_start": 1610548721714,
    "source_hash": "e7f21eae",
    "tags": []
   },
   "outputs": [
    {
     "data": {
      "image/png": "[encoded data removed]",
      "text/plain": [
       "<Figure size 720x576 with 2 Axes>"
      ]
     },
     "metadata": {
      "needs_background": "light"
     },
     "output_type": "display_data"
    }
   ],
   "source": [
    "\"\"\"Exercise 5\"\"\"\n",
    "# ratings = [ 0.7, 1, 1.3]\n",
    "#plt.figure(figsize=(10,8))\n",
    "#plt.hist(df1['mean_norm_ratings'], bins=np.arange(-5,5,0.25), label = 'Mean Norm rating counts')\n",
    "#plt.xlabel('Rating Scale')\n",
    "#plt.xticks(np.arange(-5,6))\n",
    "#plt.ylabel('Rating Counts')\n",
    "#plt.legend(loc='upper left')\n",
    "# plt.xticks(df1['meannorm_rating'])\n",
    "#plt.title('Distribution of Mean Norm Rating')\n",
    "#plt.show()\n",
    "\n",
    "\n",
    "#I have created somewhat nicer looking graph I think\n",
    "data = pd.read_csv('Processed.csv')\n",
    "mean = data['mean_norm_ratings']\n",
    "fig,ax = plt.subplots(figsize=(10,8))\n",
    "ax.hist(mean, bins=np.arange(-5,5,0.25))\n",
    "ax.set_ylabel('Rating Counts')\n",
    "a1 = ax.twinx()\n",
    "a1.hist(mean, bins=np.arange(-5,5,0.25), density=True)\n",
    "mean.plot(kind='kde')\n",
    "ax.set_xlim(-5,5)\n",
    "ax.set_xticks(np.arange(-5,6))\n",
    "plt.show()"
   ]
  },
  {
   "cell_type": "markdown",
   "metadata": {
    "cell_id": "00012-e492305e-eceb-4ed3-acf1-33dcc96344f0",
    "deepnote_cell_type": "markdown",
    "tags": []
   },
   "source": [
    "### Exercise 6\n",
    "Create one graph that represents in the same figure both minmax_norm_rating and mean_norm_rating distributions."
   ]
  },
  {
   "cell_type": "code",
   "execution_count": null,
   "metadata": {
    "cell_id": "00012-9782a60e-78dc-4a29-b073-eff13ec95e99",
    "deepnote_cell_type": "code",
    "deepnote_to_be_reexecuted": false,
    "execution_millis": 706,
    "execution_start": 1610548725401,
    "source_hash": "ba8f3b23",
    "tags": []
   },
   "outputs": [
    {
     "data": {
      "text/plain": [
       "<matplotlib.legend.Legend at 0x7f44582c77d0>"
      ]
     },
     "execution_count": 20,
     "metadata": {},
     "output_type": "execute_result"
    },
    {
     "data": {
      "image/png": "[encoded data removed]",
      "text/plain": [
       "<Figure size 720x576 with 2 Axes>"
      ]
     },
     "metadata": {
      "needs_background": "light"
     },
     "output_type": "display_data"
    }
   ],
   "source": [
    "\"\"\"Exercise 6\"\"\" # I guess the easiest option is to move mean_norm by 5 to the right so that we don't mess up the distribution\n",
    "fig,ax = plt.subplots(figsize=(10,8))\n",
    "mean = df1['mean_norm_ratings'] + 5.82\n",
    "minmax = df1['minmax_norm_ratings']\n",
    "ax.hist(mean, color= 'b', bins=np.arange(1,10,0.25), alpha=0.35, label = 'Mean Norm rating counts shifted')\n",
    "ax.hist(minmax, color = 'r', bins=np.arange(1,10,0.25), alpha=0.35, label = 'MinMax Norm rating counts')\n",
    "a1 = ax.twinx()\n",
    "a1.hist(mean, color= 'b', bins=np.arange(1,10,0.25), alpha=0.35, label = 'Mean Norm rating counts shifted', density=True)\n",
    "mean.plot(kind='kde', alpha=0.7, color='b')\n",
    "a1.hist(minmax, color = 'r', bins=np.arange(1,10,0.25), alpha=0.35, label = 'MinMax Norm rating counts', density=True)\n",
    "minmax.plot(kind='kde', alpha=0.7, color='r')\n",
    "ax.set_xlim(0,11)\n",
    "plt.legend()\n",
    "# we can see that those graphs are nearly the same, coincidence?\n",
    "# WTF\n",
    "\n"
   ]
  },
  {
   "cell_type": "code",
   "execution_count": null,
   "metadata": {
    "cell_id": "00019-a0ce38fd-4dce-45c2-a37b-015a2e1c8ba7",
    "deepnote_cell_type": "code",
    "deepnote_to_be_reexecuted": false,
    "execution_millis": 245,
    "execution_start": 1610560291549,
    "source_hash": "57125559",
    "tags": []
   },
   "outputs": [
    {
     "name": "stderr",
     "output_type": "stream",
     "text": [
      "/shared-libs/python3.7/py/lib/python3.7/site-packages/seaborn/distributions.py:2557: FutureWarning: `distplot` is a deprecated function and will be removed in a future version. Please adapt your code to use either `displot` (a figure-level function with similar flexibility) or `histplot` (an axes-level function for histograms).\n",
      "  warnings.warn(msg, FutureWarning)\n",
      "/shared-libs/python3.7/py/lib/python3.7/site-packages/seaborn/distributions.py:2557: FutureWarning: `distplot` is a deprecated function and will be removed in a future version. Please adapt your code to use either `displot` (a figure-level function with similar flexibility) or `histplot` (an axes-level function for histograms).\n",
      "  warnings.warn(msg, FutureWarning)\n"
     ]
    },
    {
     "data": {
      "text/plain": [
       "Text(0, 0.5, 'Density')"
      ]
     },
     "execution_count": 37,
     "metadata": {},
     "output_type": "execute_result"
    },
    {
     "data": {
      "image/png": "[encoded data removed]",
      "text/plain": [
       "<Figure size 720x504 with 1 Axes>"
      ]
     },
     "metadata": {
      "needs_background": "light"
     },
     "output_type": "display_data"
    }
   ],
   "source": [
    "plt.figure(figsize=(10,7))\n",
    "sns.distplot(df1['meannorm_rating'], kde = True, hist = True, rug= False, bins= 40)\n",
    "sns.distplot(df1['minmax_norm_rating'], kde = True, hist = True, rug= False, bins= 40)\n",
    "plt.xlabel('Mean_MinMax_Norm_Rating', fontsize=10)\n",
    "plt.ylabel('Density',fontsize=10)"
   ]
  },
  {
   "cell_type": "markdown",
   "metadata": {
    "cell_id": "00013-cadb4906-0ee9-4fdf-a09b-8f611e11c999",
    "deepnote_cell_type": "markdown",
    "tags": []
   },
   "source": [
    "### Exercise 7\n",
    "What is the best fit in terms of a distribution (normal, chi-squared...) to represent each of those graphs?\n",
    "* You can use Scipy-Stats Library to figure out the best fitting distribution"
   ]
  },
  {
   "cell_type": "code",
   "execution_count": 10,
   "metadata": {
    "cell_id": "00024-a5724575-b837-47f8-affb-4514690316ee",
    "deepnote_cell_type": "code",
    "deepnote_to_be_reexecuted": false,
    "execution_millis": 0,
    "execution_start": 1610611438121,
    "source_hash": "26408aee",
    "tags": []
   },
   "outputs": [
    {
     "ename": "TypeError",
     "evalue": "'module' object is not callable",
     "output_type": "error",
     "traceback": [
      "\u001b[0;31m---------------------------------------------------------------------------\u001b[0m",
      "\u001b[0;31mTypeError\u001b[0m                                 Traceback (most recent call last)",
      "\u001b[0;32m<ipython-input-10-450e7643ee0f>\u001b[0m in \u001b[0;36m<module>\u001b[0;34m\u001b[0m\n\u001b[0;32m----> 1\u001b[0;31m \u001b[0mstats\u001b[0m\u001b[0;34m.\u001b[0m\u001b[0mdistributions\u001b[0m\u001b[0;34m(\u001b[0m\u001b[0mdf1\u001b[0m\u001b[0;34m[\u001b[0m\u001b[0;34m'mean_norm_ratings'\u001b[0m\u001b[0;34m]\u001b[0m\u001b[0;34m)\u001b[0m\u001b[0;34m\u001b[0m\u001b[0;34m\u001b[0m\u001b[0m\n\u001b[0m",
      "\u001b[0;31mTypeError\u001b[0m: 'module' object is not callable"
     ]
    }
   ],
   "source": [
    "stats.fit(df1['mean_norm_ratings'])"
   ]
  },
  {
   "cell_type": "markdown",
   "metadata": {
    "cell_id": "00014-f3f16c66-934d-42ab-a377-9aff95449c60",
    "deepnote_cell_type": "markdown",
    "tags": []
   },
   "source": [
    "### Exercise 8\n",
    "Visualize the awards distribution in a boxplot and aggregtated bars. Decide which of these representations gives us more information and in which cases they should be used. "
   ]
  },
  {
   "cell_type": "code",
   "execution_count": null,
   "metadata": {
    "cell_id": "00014-d4066a02-b542-460f-8ab7-0c6b015d01ce",
    "deepnote_cell_type": "code",
    "deepnote_to_be_reexecuted": false,
    "execution_millis": 224,
    "execution_start": 1610548723333,
    "source_hash": "367301d9",
    "tags": []
   },
   "outputs": [
    {
     "data": {
      "text/plain": [
       "<AxesSubplot:ylabel='Awards'>"
      ]
     },
     "execution_count": 15,
     "metadata": {},
     "output_type": "execute_result"
    },
    {
     "data": {
      "image/png": "[encoded data removed]",
      "text/plain": [
       "<Figure size 720x504 with 1 Axes>"
      ]
     },
     "metadata": {
      "needs_background": "light"
     },
     "output_type": "display_data"
    }
   ],
   "source": [
    "\"\"\"Exercise 8\"\"\"\n",
    "fig,ax = plt.subplots(figsize=(10,8))\n",
    "plt.figure(figsize=(10,7))\n",
    "sns.boxplot(y=df1['Awards'])\n",
    "plt.title('')"
   ]
  },
  {
   "cell_type": "code",
   "execution_count": null,
   "metadata": {
    "cell_id": "00025-52e7097f-7df7-46c3-ac97-48dba0848d7c",
    "deepnote_cell_type": "code",
    "deepnote_to_be_reexecuted": false,
    "execution_millis": 454,
    "execution_start": 1610560205532,
    "source_hash": "c385d7c8",
    "tags": []
   },
   "outputs": [
    {
     "data": {
      "text/plain": [
       "<seaborn.axisgrid.JointGrid at 0x7f444ece4410>"
      ]
     },
     "execution_count": 36,
     "metadata": {},
     "output_type": "execute_result"
    },
    {
     "data": {
      "image/png": "[encoded data removed]",
      "text/plain": [
       "<Figure size 648x648 with 3 Axes>"
      ]
     },
     "metadata": {
      "needs_background": "light"
     },
     "output_type": "display_data"
    }
   ],
   "source": [
    "\n",
    "jointplot = sns.JointGrid(data=df1, x=\"Awards\")\n",
    "jointplot.fig.set_figwidth(9)\n",
    "jointplot.fig.set_figheight(9)\n",
    "jointplot.plot(sns.histplot, sns.boxplot)"
   ]
  },
  {
   "cell_type": "markdown",
   "metadata": {
    "cell_id": "00018-5fd2094c-3044-44d3-a299-f70a88d0874c",
    "deepnote_cell_type": "markdown",
    "tags": []
   },
   "source": [
    "### Exercise 9\n",
    "Yesterday we asked you this:\n",
    "    * \"Group the books by original_publish_year and get the mean of the minmax_norm_ratings of the groups.\" \n",
    "    * Now, make a simple plot to visualise the ratings w.r.t. the years!"
   ]
  },
  {
   "cell_type": "code",
   "execution_count": null,
   "metadata": {
    "cell_id": "00010-c9f66058-b5e9-40bc-92ac-d15926bda567",
    "deepnote_cell_type": "code",
    "deepnote_to_be_reexecuted": false,
    "execution_millis": 953,
    "execution_start": 1610548723627,
    "source_hash": "5c1f874d",
    "tags": []
   },
   "outputs": [
    {
     "data": {
      "image/png": "[encoded data removed]",
      "text/plain": [
       "<Figure size 1440x576 with 1 Axes>"
      ]
     },
     "metadata": {
      "needs_background": "light"
     },
     "output_type": "display_data"
    }
   ],
   "source": [
    "\"\"\"Exercise 9\"\"\"\n",
    "bygroup_minmax_df1.drop(bygroup_minmax_df1.index[-3:], inplace=True)\n",
    "fig, ax = plt.subplots(1, sharex=True,figsize=(20,8))\n",
    "ax.plot(bygroup_minmax_df1.index, bygroup_minmax_df1['minmax_norm_rating'], label = 'MinMax_Norm_Ratings', color='b', marker='o', linewidth=3)\n",
    "ax.set_title('MinMax_Norm_Ratings_Bygroup')\n",
    "\n",
    "\n",
    "plt.xticks(bygroup_minmax_df1.index,  rotation='vertical')\n",
    "plt.xlabel('Year', fontsize=20)\n",
    "plt.ylabel('MinMax_Norm_Rating_Mean', fontsize=20)\n",
    "plt.show()"
   ]
  },
  {
   "cell_type": "markdown",
   "metadata": {
    "cell_id": "00020-66682e28-c0d4-444d-913f-da2631e7441e",
    "deepnote_cell_type": "markdown",
    "tags": []
   },
   "source": [
    "### Exercise 10\n",
    "Make a scatterplot to represent  minmax_norm_ratings in function of the number of awards won by the book.\n",
    "- Is there another representation that displays this in a more clear manner?\n",
    "- Optional: Can you plot a best fit linear regression line to represent the relationship?"
   ]
  },
  {
   "cell_type": "code",
   "execution_count": null,
   "metadata": {
    "cell_id": "00011-8da51160-db26-4a3a-9661-32dbb4715e8f",
    "deepnote_cell_type": "code",
    "deepnote_to_be_reexecuted": false,
    "execution_millis": 14,
    "execution_start": 1610548724584,
    "source_hash": "699af8fe",
    "tags": []
   },
   "outputs": [
    {
     "data": {
      "text/plain": [
       "'Exercise 10'"
      ]
     },
     "execution_count": 17,
     "metadata": {},
     "output_type": "execute_result"
    }
   ],
   "source": [
    "\"\"\"Exercise 10\"\"\"\n",
    "\n",
    "# sns.lmplot(x=\"Awards_count\", y=\"minmax_norm_rating\", data=df1, hue=\"Awards_count\");"
   ]
  },
  {
   "cell_type": "code",
   "execution_count": null,
   "metadata": {
    "cell_id": "00012-a43c9d3a-7413-4f11-acb8-9da9f02a951c",
    "deepnote_cell_type": "code",
    "deepnote_to_be_reexecuted": false,
    "execution_millis": 348,
    "execution_start": 1610548724602,
    "source_hash": "e00e43a8",
    "tags": []
   },
   "outputs": [
    {
     "data": {
      "image/png": "[encoded data removed]",
      "text/plain": [
       "<Figure size 720x576 with 1 Axes>"
      ]
     },
     "metadata": {
      "needs_background": "light"
     },
     "output_type": "display_data"
    }
   ],
   "source": [
    "plt.figure(figsize=(10,8))\n",
    "sns.regplot(y=\"minmax_norm_rating\", x=\"Awards\", data=df1);"
   ]
  },
  {
   "cell_type": "code",
   "execution_count": null,
   "metadata": {
    "cell_id": "00013-800e5002-e2b4-4d94-8170-b87d607bdd18",
    "deepnote_cell_type": "code",
    "deepnote_to_be_reexecuted": false,
    "execution_millis": 420,
    "execution_start": 1610548724979,
    "source_hash": "4b1ddaf",
    "tags": []
   },
   "outputs": [
    {
     "data": {
      "text/plain": [
       "<Figure size 720x576 with 0 Axes>"
      ]
     },
     "metadata": {},
     "output_type": "display_data"
    },
    {
     "data": {
      "image/png": "[encoded data removed]",
      "text/plain": [
       "<Figure size 360x360 with 1 Axes>"
      ]
     },
     "metadata": {
      "needs_background": "light"
     },
     "output_type": "display_data"
    }
   ],
   "source": [
    "plt.figure(figsize=(10,8))\n",
    "sns.lmplot(y=\"minmax_norm_rating\", x=\"Awards\", data=df1);"
   ]
  },
  {
   "cell_type": "code",
   "execution_count": null,
   "metadata": {
    "cell_id": "00031-e0ffbb6d-1866-4e23-a079-9ca141138c6c",
    "deepnote_cell_type": "code",
    "deepnote_to_be_reexecuted": false,
    "execution_millis": 0,
    "execution_start": 1610548725400,
    "source_hash": "b623e53d",
    "tags": []
   },
   "outputs": [],
   "source": []
  }
 ],
 "metadata": {
  "deepnote_execution_queue": [],
  "deepnote_notebook_id": "cb470af7-f917-4492-963e-9ef8bc030c5a",
  "kernelspec": {
   "display_name": "Python 3",
   "language": "python",
   "name": "python3"
  },
  "language_info": {
   "codemirror_mode": {
    "name": "ipython",
    "version": 3
   },
   "file_extension": ".py",
   "mimetype": "text/x-python",
   "name": "python",
   "nbconvert_exporter": "python",
   "pygments_lexer": "ipython3",
   "version": "3.7.4"
  }
 },
 "nbformat": 4,
 "nbformat_minor": 2
}
